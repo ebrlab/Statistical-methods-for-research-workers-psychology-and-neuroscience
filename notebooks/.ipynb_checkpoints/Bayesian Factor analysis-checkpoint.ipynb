{
 "cells": [
  {
   "cell_type": "markdown",
   "metadata": {
    "toc": true
   },
   "source": [
    "<h1>Table of Contents<span class=\"tocSkip\"></span></h1>\n",
    "<div class=\"toc\"><ul class=\"toc-item\"><li><span><a href=\"#Bayesian-estimation-equivalent-ofFactor-analyis\" data-toc-modified-id=\"Bayesian-estimation-equivalent-ofFactor-analyis-1\"><span class=\"toc-item-num\">1&nbsp;&nbsp;</span>Bayesian estimation equivalent ofFactor analyis</a></span><ul class=\"toc-item\"><li><span><a href=\"#Classic-Factor-analysis\" data-toc-modified-id=\"Classic-Factor-analysis-1.1\"><span class=\"toc-item-num\">1.1&nbsp;&nbsp;</span>Classic Factor analysis</a></span></li></ul></li><li><span><a href=\"#Bayesian-inference\" data-toc-modified-id=\"Bayesian-inference-2\"><span class=\"toc-item-num\">2&nbsp;&nbsp;</span>Bayesian inference</a></span></li></ul></div>"
   ]
  },
  {
   "cell_type": "code",
   "execution_count": 1,
   "metadata": {},
   "outputs": [],
   "source": [
    "# Import analysis packages\n",
    "%matplotlib inline\n",
    "import pystan as ps\n",
    "import numpy as np\n",
    "import pandas as pd\n",
    "import seaborn as sns\n",
    "import arviz as az\n",
    "import matplotlib.pyplot as plt\n",
    "import scipy.stats as ss"
   ]
  },
  {
   "cell_type": "code",
   "execution_count": 2,
   "metadata": {},
   "outputs": [
    {
     "data": {
      "text/html": [
       " <style>\n",
       ".output_png {\n",
       "    display: table-cell;\n",
       "    text-align: center;\n",
       "    vertical-align: middle;\n",
       "}\n",
       "</style> "
      ],
      "text/plain": [
       "<IPython.core.display.HTML object>"
      ]
     },
     "execution_count": 2,
     "metadata": {},
     "output_type": "execute_result"
    }
   ],
   "source": [
    "from IPython.core.display import HTML as Center\n",
    "\n",
    "Center(\"\"\" <style>\n",
    ".output_png {\n",
    "    display: table-cell;\n",
    "    text-align: center;\n",
    "    vertical-align: middle;\n",
    "}\n",
    "</style> \"\"\")"
   ]
  },
  {
   "cell_type": "markdown",
   "metadata": {},
   "source": [
    "# Bayesian estimation equivalent ofFactor analyis\n",
    "\n",
    "## Classic Factor analysis\n"
   ]
  },
  {
   "cell_type": "markdown",
   "metadata": {},
   "source": [
    "# Bayesian inference\n",
    "<font size = \"3\"> Following the quick description of the classic one sample t-test above its important to keep in mind that Bayesian analysis inference are all derived from the applciation of Bayes rule $P(\\theta \\mid y) = \\large \\frac{P(y \\mid \\theta) \\, P(\\theta)}{P(y)}$ and as such while the following description of the Bayesian model is an equivalent to Factor analysis it is fundamentally different, because it uses fully probabilistic modelling and the infernce is not based on sampling distributions</font>\n",
    "    \n",
    "<font size = \"1\"> For a fuller description see the Practicing Bayesian statistics markdown file within the Github repository.</font>"
   ]
  },
  {
   "cell_type": "code",
   "execution_count": null,
   "metadata": {},
   "outputs": [],
   "source": []
  }
 ],
 "metadata": {
  "kernelspec": {
   "display_name": "Python 3",
   "language": "python",
   "name": "python3"
  },
  "language_info": {
   "codemirror_mode": {
    "name": "ipython",
    "version": 3
   },
   "file_extension": ".py",
   "mimetype": "text/x-python",
   "name": "python",
   "nbconvert_exporter": "python",
   "pygments_lexer": "ipython3",
   "version": "3.7.4"
  },
  "toc": {
   "base_numbering": 1,
   "nav_menu": {},
   "number_sections": true,
   "sideBar": true,
   "skip_h1_title": false,
   "title_cell": "Table of Contents",
   "title_sidebar": "Contents",
   "toc_cell": true,
   "toc_position": {},
   "toc_section_display": true,
   "toc_window_display": true
  }
 },
 "nbformat": 4,
 "nbformat_minor": 2
}
