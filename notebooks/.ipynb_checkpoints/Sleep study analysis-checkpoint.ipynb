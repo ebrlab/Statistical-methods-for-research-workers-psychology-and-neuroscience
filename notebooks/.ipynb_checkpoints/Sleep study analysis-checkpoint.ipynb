{
 "cells": [
  {
   "cell_type": "markdown",
   "metadata": {
    "toc": true
   },
   "source": [
    "<h1>Table of Contents<span class=\"tocSkip\"></span></h1>\n",
    "<div class=\"toc\"><ul class=\"toc-item\"></ul></div>"
   ]
  },
  {
   "cell_type": "code",
   "execution_count": 1,
   "metadata": {},
   "outputs": [],
   "source": [
    "# Import the neccesary python libraries for Bayesian analysis\n",
    "# and data visualisation.\n",
    "import matplotlib.pyplot as plt\n",
    "%matplotlib inline\n",
    "import numpy as np\n",
    "import pandas as pd\n",
    "import os\n",
    "import pystan as ps\n",
    "import arviz as az\n",
    "import statistics as Stats\n",
    "import scipy.stats as stats\n",
    "from patsy import dmatrix"
   ]
  },
  {
   "cell_type": "code",
   "execution_count": 41,
   "metadata": {},
   "outputs": [],
   "source": [
    "os.chdir(r\"C:\\Users\\harri\\OneDrive\\Documents\\Datasets practice\")"
   ]
  },
  {
   "cell_type": "code",
   "execution_count": 42,
   "metadata": {},
   "outputs": [],
   "source": [
    "df =  pd.read_csv(\"Sleepstudy_exported\")\n",
    "# Convert to long to change the particapnt ids to 1:18\n",
    "df_wide = df.pivot_table(index = 'Subject', columns = 'Days', values = 'Reaction').reset_index()\n",
    "df_wide['Subject'] = list(range(1, len(df_wide)+1))"
   ]
  },
  {
   "cell_type": "code",
   "execution_count": 59,
   "metadata": {},
   "outputs": [],
   "source": [
    "df_long = pd.melt(df_wide, id_vars=['Subject'], value_vars = range(0,10),\n",
    "        var_name='Day', value_name='Reaction')\n",
    "df_long['Day'] = df_long['Day'].astype(int)"
   ]
  },
  {
   "cell_type": "code",
   "execution_count": 82,
   "metadata": {},
   "outputs": [],
   "source": [
    "Hierachial_regression = \"\"\"\n",
    "\n",
    "data {\n",
    "  int<lower=0> N; // number of data observed\n",
    "  int<lower=0> J; // number of subjects\n",
    "  int<lower= 0> K; // number of fixed effects\n",
    "  vector[N] y; // obsevered data\n",
    "  vector[N] x; // predictor\n",
    "  int<lower = 0, upper=J> subj_id[N];\n",
    "  \n",
    "}\n",
    "\n",
    "parameters {\n",
    "vector[K] beta;\n",
    "vector[J] u_1;\n",
    "vector[J] u_2;\n",
    "real<lower = 0> sigma;\n",
    "vector<lower=0>[2] sigma_u;\n",
    "\n",
    "\n",
    "}\n",
    "\n",
    "transformed parameters{\n",
    "vector[N] mu;\n",
    "\n",
    "for (i in 1:N){\n",
    "mu[i] = beta[1] + u_1[subj_id[i]] + (beta[2] + u_2[subj_id[i]]) * x[i];\n",
    "    }\n",
    "}\n",
    "\n",
    "model {\n",
    "// Priors\n",
    "beta[1] ~ normal(250,50);\n",
    "beta[2] ~ normal(0,50);\n",
    "sigma_u[1] ~ normal(0, 50);\n",
    "sigma_u[2] ~ normal(0, 20);\n",
    "u_1 ~ normal(0, sigma_u[1]);\n",
    "u_2 ~ normal(0, sigma_u[2]);\n",
    "\n",
    "\n",
    "//likelihood\n",
    "y ~ normal(mu, sigma);\n",
    "}\n",
    "\n",
    "\"\"\""
   ]
  },
  {
   "cell_type": "code",
   "execution_count": 83,
   "metadata": {},
   "outputs": [
    {
     "name": "stderr",
     "output_type": "stream",
     "text": [
      "INFO:pystan:COMPILING THE C++ CODE FOR MODEL anon_model_348aeac0022a9ac8edcc1e70cf12c1cc NOW.\n"
     ]
    }
   ],
   "source": [
    "sm = ps.StanModel(model_code=Hierachial_regression)"
   ]
  },
  {
   "cell_type": "code",
   "execution_count": 77,
   "metadata": {},
   "outputs": [],
   "source": [
    "X = df_long['Day']\n",
    "data = {'N': len(df),\n",
    "        'y': df_long.Reaction.values,\n",
    "        'K': 2,\n",
    "        'x': X,\n",
    "        'J': df_long.Subject.nunique(),\n",
    "        'subj_id': df_long.Subject.values}"
   ]
  },
  {
   "cell_type": "code",
   "execution_count": 84,
   "metadata": {},
   "outputs": [],
   "source": [
    "fit = sm.sampling(data = data, iter = 2000, warmup=1000, seed = 1)"
   ]
  },
  {
   "cell_type": "code",
   "execution_count": 86,
   "metadata": {},
   "outputs": [],
   "source": [
    "#print(fit)"
   ]
  },
  {
   "cell_type": "code",
   "execution_count": null,
   "metadata": {},
   "outputs": [],
   "source": []
  }
 ],
 "metadata": {
  "kernelspec": {
   "display_name": "Python 3",
   "language": "python",
   "name": "python3"
  },
  "language_info": {
   "codemirror_mode": {
    "name": "ipython",
    "version": 3
   },
   "file_extension": ".py",
   "mimetype": "text/x-python",
   "name": "python",
   "nbconvert_exporter": "python",
   "pygments_lexer": "ipython3",
   "version": "3.7.4"
  },
  "toc": {
   "base_numbering": 1,
   "nav_menu": {},
   "number_sections": true,
   "sideBar": true,
   "skip_h1_title": false,
   "title_cell": "Table of Contents",
   "title_sidebar": "Contents",
   "toc_cell": true,
   "toc_position": {},
   "toc_section_display": true,
   "toc_window_display": true
  }
 },
 "nbformat": 4,
 "nbformat_minor": 2
}
