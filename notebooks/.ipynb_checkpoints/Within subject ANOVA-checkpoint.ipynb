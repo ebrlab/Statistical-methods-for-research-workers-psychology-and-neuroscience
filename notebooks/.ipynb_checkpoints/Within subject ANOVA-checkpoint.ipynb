{
 "cells": [
  {
   "cell_type": "markdown",
   "metadata": {
    "toc": true
   },
   "source": [
    "<h1>Table of Contents<span class=\"tocSkip\"></span></h1>\n",
    "<div class=\"toc\"><ul class=\"toc-item\"><li><span><a href=\"#Bayesian-estimation-equivalent-of-within-subject/repeated-measures-ANOVA\" data-toc-modified-id=\"Bayesian-estimation-equivalent-of-within-subject/repeated-measures-ANOVA-1\"><span class=\"toc-item-num\">1&nbsp;&nbsp;</span>Bayesian estimation equivalent of within subject/repeated measures ANOVA</a></span><ul class=\"toc-item\"><li><span><a href=\"#The-classic-within-subject-ANOVA\" data-toc-modified-id=\"The-classic-within-subject-ANOVA-1.1\"><span class=\"toc-item-num\">1.1&nbsp;&nbsp;</span>The classic within subject ANOVA</a></span></li></ul></li><li><span><a href=\"#Add-to-this\" data-toc-modified-id=\"Add-to-this-2\"><span class=\"toc-item-num\">2&nbsp;&nbsp;</span>Add to this</a></span></li><li><span><a href=\"#Bayesian-inference\" data-toc-modified-id=\"Bayesian-inference-3\"><span class=\"toc-item-num\">3&nbsp;&nbsp;</span>Bayesian inference</a></span></li><li><span><a href=\"#Steps-of-Bayesian-data-analysis\" data-toc-modified-id=\"Steps-of-Bayesian-data-analysis-4\"><span class=\"toc-item-num\">4&nbsp;&nbsp;</span>Steps of Bayesian data analysis</a></span></li><li><span><a href=\"#Step-1---Identify-the-relevant-data-for-question-under-investigation\" data-toc-modified-id=\"Step-1---Identify-the-relevant-data-for-question-under-investigation-5\"><span class=\"toc-item-num\">5&nbsp;&nbsp;</span>Step 1 - Identify the relevant data for question under investigation</a></span><ul class=\"toc-item\"><li><span><a href=\"#Study/data-description\" data-toc-modified-id=\"Study/data-description-5.1\"><span class=\"toc-item-num\">5.1&nbsp;&nbsp;</span>Study/data description</a></span></li><li><span><a href=\"#Import-data\" data-toc-modified-id=\"Import-data-5.2\"><span class=\"toc-item-num\">5.2&nbsp;&nbsp;</span>Import data</a></span><ul class=\"toc-item\"><li><span><a href=\"#Clean-the-data\" data-toc-modified-id=\"Clean-the-data-5.2.1\"><span class=\"toc-item-num\">5.2.1&nbsp;&nbsp;</span>Clean the data</a></span></li><li><span><a href=\"#Data-visualisation-and-exploratory-data-analysis\" data-toc-modified-id=\"Data-visualisation-and-exploratory-data-analysis-5.2.2\"><span class=\"toc-item-num\">5.2.2&nbsp;&nbsp;</span>Data visualisation and exploratory data analysis</a></span></li></ul></li></ul></li><li><span><a href=\"#Stan-model\" data-toc-modified-id=\"Stan-model-6\"><span class=\"toc-item-num\">6&nbsp;&nbsp;</span>Stan model</a></span></li></ul></div>"
   ]
  },
  {
   "cell_type": "code",
   "execution_count": 2,
   "metadata": {},
   "outputs": [],
   "source": [
    "# Import analysis packages\n",
    "%matplotlib inline\n",
    "import pystan as ps\n",
    "from patsy import dmatrix\n",
    "import numpy as np\n",
    "import pandas as pd\n",
    "import seaborn as sns\n",
    "import arviz as az\n",
    "import matplotlib.pyplot as plt\n",
    "import scipy.stats as stats"
   ]
  },
  {
   "cell_type": "markdown",
   "metadata": {},
   "source": [
    "Notebook formatting (code below centralise the plot outputs"
   ]
  },
  {
   "cell_type": "code",
   "execution_count": 3,
   "metadata": {},
   "outputs": [
    {
     "data": {
      "text/html": [
       " <style>\n",
       ".output_png {\n",
       "    display: table-cell;\n",
       "    text-align: center;\n",
       "    vertical-align: middle;\n",
       "}\n",
       "</style> "
      ],
      "text/plain": [
       "<IPython.core.display.HTML object>"
      ]
     },
     "execution_count": 3,
     "metadata": {},
     "output_type": "execute_result"
    }
   ],
   "source": [
    "from IPython.core.display import HTML as Center\n",
    "\n",
    "Center(\"\"\" <style>\n",
    ".output_png {\n",
    "    display: table-cell;\n",
    "    text-align: center;\n",
    "    vertical-align: middle;\n",
    "}\n",
    "</style> \"\"\")"
   ]
  },
  {
   "cell_type": "markdown",
   "metadata": {},
   "source": [
    "# Bayesian estimation equivalent of within subject/repeated measures ANOVA"
   ]
  },
  {
   "cell_type": "markdown",
   "metadata": {},
   "source": [
    "## The classic within subject ANOVA\n",
    "\n",
    "Traditoanl ANOVA are based on the use of Null hyptohesis of F-statistic and like all ANOVA require its calculation \n",
    "\n",
    "For repewithin subject/repeated measures ANOVA the F statisitc is calulated as such\n",
    "\n",
    "1. First the sum sqaure total ($SS_T$) must be calculated \n",
    "\n",
    "$$SS_T = \\sigma_{grand}^{2}(N-1)$$\n",
    "\n",
    "2. After this the within subject varaince ($SS_W)$ needs to  be calculated \n",
    "$$ $$\n",
    "\n",
    "# Add to this"
   ]
  },
  {
   "cell_type": "markdown",
   "metadata": {},
   "source": [
    "# Bayesian inference\n",
    "<font size = \"3\"> Following the quick description of the classic within subject ANOVA above its important to keep in mind that Bayesian analysis inference are all derived from the applciation of Bayes rule $P(\\theta \\mid y) = \\large \\frac{P(y \\mid \\theta) \\, P(\\theta)}{P(y)}$ and as such while the following description of the Bayesian model is an equivalent alternative to the eithin subject ANOVA, it is fundamentally different, becuase it uses fully probabilistic modelling and the infernce is not based on sampling distributions</font>\n",
    "    \n",
    "<font size = \"1\"> For a fuller description see the Practicing Bayesian statistics markdown file within the Github repository.</font>"
   ]
  },
  {
   "cell_type": "markdown",
   "metadata": {},
   "source": [
    "# Steps of Bayesian data analysis\n",
    "\n",
    "<font size = \"3\"> Kruscke (2015) offers a step by step formulation for how to conduct a Bayesian analysis:\n",
    "\n",
    "1. Identify the relevant data for question under investigation.\n",
    "\n",
    "2. Define the descriptive (mathematical) model for the data.\n",
    "\n",
    "3. Specify the Priors for the model. In the case of scientific research publication is the goal, as such the priors must be accepted by a skeptical audience. Much of this can be achieved using prior predcitve checks to acsetain os the priors are reasonable.\n",
    "\n",
    "4. Using Bayes rule estimate the posterior for the parameters of the model using the likelihood and priors. Then interprete and the posterior\n",
    "\n",
    "5. Conduct model checks. i.e. Posterior predictive checks.</font> \n",
    "\n",
    "<font size = \"1\">This notebook will follow this approach generally.</font> "
   ]
  },
  {
   "cell_type": "markdown",
   "metadata": {},
   "source": [
    "#  Step 1 - Identify the relevant data for question under investigation"
   ]
  },
  {
   "cell_type": "markdown",
   "metadata": {},
   "source": [
    "## Study/data description\n",
    "\n",
    "The following example data analysis https://www.sheffield.ac.uk/mash/statistics/datasets.\n"
   ]
  },
  {
   "cell_type": "markdown",
   "metadata": {},
   "source": [
    "## Import data"
   ]
  },
  {
   "cell_type": "code",
   "execution_count": 4,
   "metadata": {},
   "outputs": [],
   "source": [
    "# Call github repository\n",
    "url = \"https://raw.githubusercontent.com/ebrlab/Statistical-methods-for-research-workers-bayes-for-psychologists-and-neuroscientists/master/Data/Cholesterol_R.csv\"\n",
    "#Import data .csv file into pandas dataframe.\n",
    "df = pd.read_csv(url)"
   ]
  },
  {
   "cell_type": "code",
   "execution_count": 5,
   "metadata": {},
   "outputs": [
    {
     "data": {
      "text/html": [
       "<div>\n",
       "<style scoped>\n",
       "    .dataframe tbody tr th:only-of-type {\n",
       "        vertical-align: middle;\n",
       "    }\n",
       "\n",
       "    .dataframe tbody tr th {\n",
       "        vertical-align: top;\n",
       "    }\n",
       "\n",
       "    .dataframe thead th {\n",
       "        text-align: right;\n",
       "    }\n",
       "</style>\n",
       "<table border=\"1\" class=\"dataframe\">\n",
       "  <thead>\n",
       "    <tr style=\"text-align: right;\">\n",
       "      <th></th>\n",
       "      <th>ID</th>\n",
       "      <th>Before</th>\n",
       "      <th>After4weeks</th>\n",
       "      <th>After8weeks</th>\n",
       "      <th>Margarine</th>\n",
       "    </tr>\n",
       "  </thead>\n",
       "  <tbody>\n",
       "    <tr>\n",
       "      <td>0</td>\n",
       "      <td>1</td>\n",
       "      <td>6.42</td>\n",
       "      <td>5.83</td>\n",
       "      <td>5.75</td>\n",
       "      <td>B</td>\n",
       "    </tr>\n",
       "  </tbody>\n",
       "</table>\n",
       "</div>"
      ],
      "text/plain": [
       "   ID  Before  After4weeks  After8weeks Margarine\n",
       "0   1    6.42         5.83         5.75         B"
      ]
     },
     "execution_count": 5,
     "metadata": {},
     "output_type": "execute_result"
    }
   ],
   "source": [
    "# Output data frame for evaluation of proper import\n",
    "df.head(1)"
   ]
  },
  {
   "cell_type": "markdown",
   "metadata": {},
   "source": [
    "### Clean the data\n",
    "\n",
    "Because this notebook is solely focused on modeling the within subject effects for individuals who consumed Margarine here.\n",
    "Therefore, some data manipulation is required."
   ]
  },
  {
   "cell_type": "code",
   "execution_count": 6,
   "metadata": {},
   "outputs": [],
   "source": [
    "# First, drop all of the type A Marrgarines from the dataframe.\n",
    "dfReduced = df[~df.Margarine.str.contains(\"A\")]"
   ]
  },
  {
   "cell_type": "code",
   "execution_count": 7,
   "metadata": {},
   "outputs": [
    {
     "name": "stderr",
     "output_type": "stream",
     "text": [
      "INFO:numexpr.utils:NumExpr defaulting to 8 threads.\n"
     ]
    }
   ],
   "source": [
    "# Using the length the ID values can be reassinged from 1 to the length of the dataframe.\n",
    "dfReduced.ID = dfReduced.loc[:,'ID'] + 1"
   ]
  },
  {
   "cell_type": "code",
   "execution_count": 8,
   "metadata": {},
   "outputs": [
    {
     "name": "stdout",
     "output_type": "stream",
     "text": [
      "    ID  Before  After4weeks  After8weeks Margarine\n",
      "0    1    6.42         5.83         5.75         B\n",
      "2    2    6.56         5.83         5.71         B\n",
      "4    3    8.43         7.71         7.67         B\n",
      "6    4    8.05         7.25         7.10         B\n",
      "8    5    5.77         5.31         5.33         B\n",
      "10   6    6.77         6.15         5.96         B\n",
      "11   7    6.44         5.59         5.64         B\n",
      "15   8    6.85         6.40         6.29         B\n",
      "17   9    5.73         5.13         5.17         B\n"
     ]
    }
   ],
   "source": [
    "# Print output to check the code has done what is described above\n",
    "print(dfReduced)"
   ]
  },
  {
   "cell_type": "code",
   "execution_count": 9,
   "metadata": {},
   "outputs": [],
   "source": [
    "# Convert from wide to long format\n",
    "dfLong = pd.melt(dfReduced, id_vars = ['ID'], value_vars=['Before', 'After4weeks', 'After8weeks'],\n",
    "                var_name='Time', value_name='Cholesterol')\n",
    "\n",
    "# Convert the Time column variable to categorical and set order of the categories for the following code\n",
    "dfLong['Time'] = dfLong[\"Time\"].astype(\"category\").cat.reorder_categories([\"Before\",  \"After4weeks\" , \"After8weeks\"])\n",
    "\n",
    "# Add column given a numerical value to each catefory plus one for use in Stan (index starts from one within Stan)\n",
    "dfLong[\"Time_cat\"] = dfLong[\"Time\"].cat.codes + 1"
   ]
  },
  {
   "cell_type": "code",
   "execution_count": 10,
   "metadata": {},
   "outputs": [
    {
     "data": {
      "text/html": [
       "<div>\n",
       "<style scoped>\n",
       "    .dataframe tbody tr th:only-of-type {\n",
       "        vertical-align: middle;\n",
       "    }\n",
       "\n",
       "    .dataframe tbody tr th {\n",
       "        vertical-align: top;\n",
       "    }\n",
       "\n",
       "    .dataframe thead th {\n",
       "        text-align: right;\n",
       "    }\n",
       "</style>\n",
       "<table border=\"1\" class=\"dataframe\">\n",
       "  <thead>\n",
       "    <tr style=\"text-align: right;\">\n",
       "      <th></th>\n",
       "      <th>ID</th>\n",
       "      <th>Time</th>\n",
       "      <th>Cholesterol</th>\n",
       "      <th>Time_cat</th>\n",
       "    </tr>\n",
       "  </thead>\n",
       "  <tbody>\n",
       "    <tr>\n",
       "      <td>0</td>\n",
       "      <td>1</td>\n",
       "      <td>Before</td>\n",
       "      <td>6.42</td>\n",
       "      <td>1</td>\n",
       "    </tr>\n",
       "    <tr>\n",
       "      <td>1</td>\n",
       "      <td>2</td>\n",
       "      <td>Before</td>\n",
       "      <td>6.56</td>\n",
       "      <td>1</td>\n",
       "    </tr>\n",
       "    <tr>\n",
       "      <td>2</td>\n",
       "      <td>3</td>\n",
       "      <td>Before</td>\n",
       "      <td>8.43</td>\n",
       "      <td>1</td>\n",
       "    </tr>\n",
       "    <tr>\n",
       "      <td>3</td>\n",
       "      <td>4</td>\n",
       "      <td>Before</td>\n",
       "      <td>8.05</td>\n",
       "      <td>1</td>\n",
       "    </tr>\n",
       "    <tr>\n",
       "      <td>4</td>\n",
       "      <td>5</td>\n",
       "      <td>Before</td>\n",
       "      <td>5.77</td>\n",
       "      <td>1</td>\n",
       "    </tr>\n",
       "    <tr>\n",
       "      <td>5</td>\n",
       "      <td>6</td>\n",
       "      <td>Before</td>\n",
       "      <td>6.77</td>\n",
       "      <td>1</td>\n",
       "    </tr>\n",
       "    <tr>\n",
       "      <td>6</td>\n",
       "      <td>7</td>\n",
       "      <td>Before</td>\n",
       "      <td>6.44</td>\n",
       "      <td>1</td>\n",
       "    </tr>\n",
       "    <tr>\n",
       "      <td>7</td>\n",
       "      <td>8</td>\n",
       "      <td>Before</td>\n",
       "      <td>6.85</td>\n",
       "      <td>1</td>\n",
       "    </tr>\n",
       "    <tr>\n",
       "      <td>8</td>\n",
       "      <td>9</td>\n",
       "      <td>Before</td>\n",
       "      <td>5.73</td>\n",
       "      <td>1</td>\n",
       "    </tr>\n",
       "    <tr>\n",
       "      <td>9</td>\n",
       "      <td>1</td>\n",
       "      <td>After4weeks</td>\n",
       "      <td>5.83</td>\n",
       "      <td>2</td>\n",
       "    </tr>\n",
       "    <tr>\n",
       "      <td>10</td>\n",
       "      <td>2</td>\n",
       "      <td>After4weeks</td>\n",
       "      <td>5.83</td>\n",
       "      <td>2</td>\n",
       "    </tr>\n",
       "    <tr>\n",
       "      <td>11</td>\n",
       "      <td>3</td>\n",
       "      <td>After4weeks</td>\n",
       "      <td>7.71</td>\n",
       "      <td>2</td>\n",
       "    </tr>\n",
       "    <tr>\n",
       "      <td>12</td>\n",
       "      <td>4</td>\n",
       "      <td>After4weeks</td>\n",
       "      <td>7.25</td>\n",
       "      <td>2</td>\n",
       "    </tr>\n",
       "    <tr>\n",
       "      <td>13</td>\n",
       "      <td>5</td>\n",
       "      <td>After4weeks</td>\n",
       "      <td>5.31</td>\n",
       "      <td>2</td>\n",
       "    </tr>\n",
       "    <tr>\n",
       "      <td>14</td>\n",
       "      <td>6</td>\n",
       "      <td>After4weeks</td>\n",
       "      <td>6.15</td>\n",
       "      <td>2</td>\n",
       "    </tr>\n",
       "    <tr>\n",
       "      <td>15</td>\n",
       "      <td>7</td>\n",
       "      <td>After4weeks</td>\n",
       "      <td>5.59</td>\n",
       "      <td>2</td>\n",
       "    </tr>\n",
       "    <tr>\n",
       "      <td>16</td>\n",
       "      <td>8</td>\n",
       "      <td>After4weeks</td>\n",
       "      <td>6.40</td>\n",
       "      <td>2</td>\n",
       "    </tr>\n",
       "    <tr>\n",
       "      <td>17</td>\n",
       "      <td>9</td>\n",
       "      <td>After4weeks</td>\n",
       "      <td>5.13</td>\n",
       "      <td>2</td>\n",
       "    </tr>\n",
       "    <tr>\n",
       "      <td>18</td>\n",
       "      <td>1</td>\n",
       "      <td>After8weeks</td>\n",
       "      <td>5.75</td>\n",
       "      <td>3</td>\n",
       "    </tr>\n",
       "    <tr>\n",
       "      <td>19</td>\n",
       "      <td>2</td>\n",
       "      <td>After8weeks</td>\n",
       "      <td>5.71</td>\n",
       "      <td>3</td>\n",
       "    </tr>\n",
       "    <tr>\n",
       "      <td>20</td>\n",
       "      <td>3</td>\n",
       "      <td>After8weeks</td>\n",
       "      <td>7.67</td>\n",
       "      <td>3</td>\n",
       "    </tr>\n",
       "    <tr>\n",
       "      <td>21</td>\n",
       "      <td>4</td>\n",
       "      <td>After8weeks</td>\n",
       "      <td>7.10</td>\n",
       "      <td>3</td>\n",
       "    </tr>\n",
       "    <tr>\n",
       "      <td>22</td>\n",
       "      <td>5</td>\n",
       "      <td>After8weeks</td>\n",
       "      <td>5.33</td>\n",
       "      <td>3</td>\n",
       "    </tr>\n",
       "    <tr>\n",
       "      <td>23</td>\n",
       "      <td>6</td>\n",
       "      <td>After8weeks</td>\n",
       "      <td>5.96</td>\n",
       "      <td>3</td>\n",
       "    </tr>\n",
       "    <tr>\n",
       "      <td>24</td>\n",
       "      <td>7</td>\n",
       "      <td>After8weeks</td>\n",
       "      <td>5.64</td>\n",
       "      <td>3</td>\n",
       "    </tr>\n",
       "    <tr>\n",
       "      <td>25</td>\n",
       "      <td>8</td>\n",
       "      <td>After8weeks</td>\n",
       "      <td>6.29</td>\n",
       "      <td>3</td>\n",
       "    </tr>\n",
       "    <tr>\n",
       "      <td>26</td>\n",
       "      <td>9</td>\n",
       "      <td>After8weeks</td>\n",
       "      <td>5.17</td>\n",
       "      <td>3</td>\n",
       "    </tr>\n",
       "  </tbody>\n",
       "</table>\n",
       "</div>"
      ],
      "text/plain": [
       "    ID         Time  Cholesterol  Time_cat\n",
       "0    1       Before         6.42         1\n",
       "1    2       Before         6.56         1\n",
       "2    3       Before         8.43         1\n",
       "3    4       Before         8.05         1\n",
       "4    5       Before         5.77         1\n",
       "5    6       Before         6.77         1\n",
       "6    7       Before         6.44         1\n",
       "7    8       Before         6.85         1\n",
       "8    9       Before         5.73         1\n",
       "9    1  After4weeks         5.83         2\n",
       "10   2  After4weeks         5.83         2\n",
       "11   3  After4weeks         7.71         2\n",
       "12   4  After4weeks         7.25         2\n",
       "13   5  After4weeks         5.31         2\n",
       "14   6  After4weeks         6.15         2\n",
       "15   7  After4weeks         5.59         2\n",
       "16   8  After4weeks         6.40         2\n",
       "17   9  After4weeks         5.13         2\n",
       "18   1  After8weeks         5.75         3\n",
       "19   2  After8weeks         5.71         3\n",
       "20   3  After8weeks         7.67         3\n",
       "21   4  After8weeks         7.10         3\n",
       "22   5  After8weeks         5.33         3\n",
       "23   6  After8weeks         5.96         3\n",
       "24   7  After8weeks         5.64         3\n",
       "25   8  After8weeks         6.29         3\n",
       "26   9  After8weeks         5.17         3"
      ]
     },
     "execution_count": 10,
     "metadata": {},
     "output_type": "execute_result"
    }
   ],
   "source": [
    "dfLong"
   ]
  },
  {
   "cell_type": "markdown",
   "metadata": {},
   "source": [
    "### Data visualisation and exploratory data analysis "
   ]
  },
  {
   "cell_type": "code",
   "execution_count": 48,
   "metadata": {},
   "outputs": [
    {
     "data": {
      "image/png": "[encoded data removed]",
      "text/plain": [
       "<Figure size 504x504 with 4 Axes>"
      ]
     },
     "metadata": {},
     "output_type": "display_data"
    }
   ],
   "source": [
    "fig, axs = plt.subplots(2, 2, figsize=(7, 7))\n",
    "\n",
    "sns.distplot(dfReduced['Before'], kde=True, color=\"skyblue\", ax=axs[0, 0]);\n",
    "sns.distplot(dfReduced['After4weeks'], kde=True, color=\"skyblue\", ax=axs[0, 1]);\n",
    "sns.distplot(dfReduced['After8weeks'], kde=True, color=\"skyblue\", ax=axs[1, 0]);\n"
   ]
  },
  {
   "cell_type": "code",
   "execution_count": 50,
   "metadata": {},
   "outputs": [
    {
     "data": {
      "text/plain": [
       "0.3306443076069891"
      ]
     },
     "execution_count": 50,
     "metadata": {},
     "output_type": "execute_result"
    }
   ],
   "source": [
    "norm = np.linalg.norm(dfReduced['Before'])\n",
    "normal_array = dfReduced['Before']/norm\n",
    "np.mean(normal_array)"
   ]
  },
  {
   "cell_type": "markdown",
   "metadata": {},
   "source": [
    "# Stan model"
   ]
  },
  {
   "cell_type": "code",
   "execution_count": 21,
   "metadata": {},
   "outputs": [],
   "source": [
    "repeatedMeasures = \"\"\" data {\n",
    "\n",
    "int<lower=0> N; // Number of observed data points\n",
    "int<lower=0> Npredictors; // Number of predictor is in the design matrix\n",
    "int<lower=0> Nsubj;\n",
    "vector[N] y; //Vector of data points\n",
    "matrix[N,Npredictors] x; // Design matrix\n",
    "int<lower=1,upper=Nsubj> Subjind[N]; // Array of integer values indicating the subject in the analysis\n",
    "\n",
    "}\n",
    "\n",
    "transformed data {\n",
    "\n",
    "  vector[N] y_std;\n",
    "  y_std = (y - mean(y)) / sd(y);\n",
    "  \n",
    "}\n",
    "\n",
    "parameters {\n",
    "vector[Npredictors] beta;\n",
    "real<lower=0> subjsigma;\n",
    "real<lower=0> sigma;\n",
    "vector[Nsubj] eta;\n",
    "\n",
    "}\n",
    "\n",
    "transformed parameters{\n",
    "vector[Nsubj] r;\n",
    "vector[N] mu;\n",
    "r = subjsigma * eta;\n",
    "\n",
    "for (i in 1:N){\n",
    " mu[i] = x[i] * beta + r[Subjind[i]];\n",
    " }\n",
    " \n",
    "}\n",
    "model{\n",
    "// Priors\n",
    "beta ~ normal(0,1);\n",
    "eta ~ normal(0,1);\n",
    "subjsigma ~ cauchy(0, 2.5);\n",
    "sigma ~ cauchy(0, 2.5);\n",
    "\n",
    "// likelihood\n",
    "y_std ~ normal(mu, sigma);\n",
    "\n",
    "}\n",
    "\n",
    "\"\"\""
   ]
  },
  {
   "cell_type": "code",
   "execution_count": 22,
   "metadata": {},
   "outputs": [
    {
     "name": "stderr",
     "output_type": "stream",
     "text": [
      "INFO:pystan:COMPILING THE C++ CODE FOR MODEL anon_model_8d7f07a7d63a60d5d0fe0faccf27fafd NOW.\n"
     ]
    }
   ],
   "source": [
    "sm = ps.StanModel(model_code = repeatedMeasures)"
   ]
  },
  {
   "cell_type": "code",
   "execution_count": 14,
   "metadata": {},
   "outputs": [],
   "source": [
    "# Genrate the dsien matrix for treament contrast below \n",
    "dm = np.array(dmatrix(' ~ Time', dfLong))"
   ]
  },
  {
   "cell_type": "code",
   "execution_count": 15,
   "metadata": {},
   "outputs": [
    {
     "data": {
      "text/plain": [
       "{'N': 27,\n",
       " 'y': array([6.42, 6.56, 8.43, 8.05, 5.77, 6.77, 6.44, 6.85, 5.73, 5.83, 5.83,\n",
       "        7.71, 7.25, 5.31, 6.15, 5.59, 6.4 , 5.13, 5.75, 5.71, 7.67, 7.1 ,\n",
       "        5.33, 5.96, 5.64, 6.29, 5.17]),\n",
       " 'x': array([[1., 0., 0.],\n",
       "        [1., 0., 0.],\n",
       "        [1., 0., 0.],\n",
       "        [1., 0., 0.],\n",
       "        [1., 0., 0.],\n",
       "        [1., 0., 0.],\n",
       "        [1., 0., 0.],\n",
       "        [1., 0., 0.],\n",
       "        [1., 0., 0.],\n",
       "        [1., 1., 0.],\n",
       "        [1., 1., 0.],\n",
       "        [1., 1., 0.],\n",
       "        [1., 1., 0.],\n",
       "        [1., 1., 0.],\n",
       "        [1., 1., 0.],\n",
       "        [1., 1., 0.],\n",
       "        [1., 1., 0.],\n",
       "        [1., 1., 0.],\n",
       "        [1., 0., 1.],\n",
       "        [1., 0., 1.],\n",
       "        [1., 0., 1.],\n",
       "        [1., 0., 1.],\n",
       "        [1., 0., 1.],\n",
       "        [1., 0., 1.],\n",
       "        [1., 0., 1.],\n",
       "        [1., 0., 1.],\n",
       "        [1., 0., 1.]]),\n",
       " 'Npredictors': 3,\n",
       " 'Nsubj': 9,\n",
       " 'Subjind': array([1, 2, 3, 4, 5, 6, 7, 8, 9, 1, 2, 3, 4, 5, 6, 7, 8, 9, 1, 2, 3, 4,\n",
       "        5, 6, 7, 8, 9])}"
      ]
     },
     "execution_count": 15,
     "metadata": {},
     "output_type": "execute_result"
    }
   ],
   "source": [
    "data = {'N': len(dfLong),\n",
    "        'y':dfLong['Cholesterol'].values,\n",
    "        'x': dm,\n",
    "        'Npredictors': len(pd.unique(dfLong['Time_cat'])),\n",
    "        'Nsubj': len(pd.unique(dfLong['ID'])),\n",
    "        'Subjind': dfLong['ID'].values,\n",
    "       }\n",
    "data"
   ]
  },
  {
   "cell_type": "code",
   "execution_count": 59,
   "metadata": {},
   "outputs": [],
   "source": [
    "fit = sm.sampling(data = data, iter = 2000,  chains = 4, seed = 302675,control=dict(max_treedepth=15, adapt_delta=0.9))"
   ]
  },
  {
   "cell_type": "code",
   "execution_count": 60,
   "metadata": {},
   "outputs": [],
   "source": [
    "# Because of python pritn stament it is easier to extract the resut sint a panda data frame for data expression\n",
    "summary = fit.summary()\n",
    "fit_df = pd.DataFrame(summary['summary'], \n",
    "                  columns = summary['summary_colnames'], \n",
    "                  index = summary['summary_rownames'])"
   ]
  },
  {
   "cell_type": "code",
   "execution_count": 61,
   "metadata": {},
   "outputs": [
    {
     "data": {
      "text/html": [
       "<div>\n",
       "<style scoped>\n",
       "    .dataframe tbody tr th:only-of-type {\n",
       "        vertical-align: middle;\n",
       "    }\n",
       "\n",
       "    .dataframe tbody tr th {\n",
       "        vertical-align: top;\n",
       "    }\n",
       "\n",
       "    .dataframe thead th {\n",
       "        text-align: right;\n",
       "    }\n",
       "</style>\n",
       "<table border=\"1\" class=\"dataframe\">\n",
       "  <thead>\n",
       "    <tr style=\"text-align: right;\">\n",
       "      <th></th>\n",
       "      <th>mean</th>\n",
       "      <th>se_mean</th>\n",
       "      <th>sd</th>\n",
       "      <th>2.5%</th>\n",
       "      <th>25%</th>\n",
       "      <th>50%</th>\n",
       "      <th>75%</th>\n",
       "      <th>97.5%</th>\n",
       "      <th>n_eff</th>\n",
       "      <th>Rhat</th>\n",
       "    </tr>\n",
       "  </thead>\n",
       "  <tbody>\n",
       "    <tr>\n",
       "      <td>beta[1]</td>\n",
       "      <td>0.447864</td>\n",
       "      <td>0.012109</td>\n",
       "      <td>0.354333</td>\n",
       "      <td>-0.289163</td>\n",
       "      <td>0.225941</td>\n",
       "      <td>0.448266</td>\n",
       "      <td>0.673856</td>\n",
       "      <td>1.146711</td>\n",
       "      <td>856.290191</td>\n",
       "      <td>1.000378</td>\n",
       "    </tr>\n",
       "    <tr>\n",
       "      <td>beta[2]</td>\n",
       "      <td>-0.714272</td>\n",
       "      <td>0.001227</td>\n",
       "      <td>0.056258</td>\n",
       "      <td>-0.827801</td>\n",
       "      <td>-0.750387</td>\n",
       "      <td>-0.713323</td>\n",
       "      <td>-0.678686</td>\n",
       "      <td>-0.604658</td>\n",
       "      <td>2100.572550</td>\n",
       "      <td>0.999793</td>\n",
       "    </tr>\n",
       "    <tr>\n",
       "      <td>beta[3]</td>\n",
       "      <td>-0.786125</td>\n",
       "      <td>0.001267</td>\n",
       "      <td>0.056762</td>\n",
       "      <td>-0.895198</td>\n",
       "      <td>-0.823987</td>\n",
       "      <td>-0.787777</td>\n",
       "      <td>-0.750897</td>\n",
       "      <td>-0.670037</td>\n",
       "      <td>2008.551438</td>\n",
       "      <td>1.000747</td>\n",
       "    </tr>\n",
       "    <tr>\n",
       "      <td>subjsigma</td>\n",
       "      <td>1.113900</td>\n",
       "      <td>0.010288</td>\n",
       "      <td>0.322000</td>\n",
       "      <td>0.676134</td>\n",
       "      <td>0.890667</td>\n",
       "      <td>1.052660</td>\n",
       "      <td>1.264814</td>\n",
       "      <td>1.907650</td>\n",
       "      <td>979.599531</td>\n",
       "      <td>1.003710</td>\n",
       "    </tr>\n",
       "    <tr>\n",
       "      <td>sigma</td>\n",
       "      <td>0.116241</td>\n",
       "      <td>0.000681</td>\n",
       "      <td>0.023900</td>\n",
       "      <td>0.081140</td>\n",
       "      <td>0.099214</td>\n",
       "      <td>0.112565</td>\n",
       "      <td>0.129323</td>\n",
       "      <td>0.172235</td>\n",
       "      <td>1230.487414</td>\n",
       "      <td>1.000804</td>\n",
       "    </tr>\n",
       "  </tbody>\n",
       "</table>\n",
       "</div>"
      ],
      "text/plain": [
       "               mean   se_mean        sd      2.5%       25%       50%  \\\n",
       "beta[1]    0.447864  0.012109  0.354333 -0.289163  0.225941  0.448266   \n",
       "beta[2]   -0.714272  0.001227  0.056258 -0.827801 -0.750387 -0.713323   \n",
       "beta[3]   -0.786125  0.001267  0.056762 -0.895198 -0.823987 -0.787777   \n",
       "subjsigma  1.113900  0.010288  0.322000  0.676134  0.890667  1.052660   \n",
       "sigma      0.116241  0.000681  0.023900  0.081140  0.099214  0.112565   \n",
       "\n",
       "                75%     97.5%        n_eff      Rhat  \n",
       "beta[1]    0.673856  1.146711   856.290191  1.000378  \n",
       "beta[2]   -0.678686 -0.604658  2100.572550  0.999793  \n",
       "beta[3]   -0.750897 -0.670037  2008.551438  1.000747  \n",
       "subjsigma  1.264814  1.907650   979.599531  1.003710  \n",
       "sigma      0.129323  0.172235  1230.487414  1.000804  "
      ]
     },
     "execution_count": 61,
     "metadata": {},
     "output_type": "execute_result"
    }
   ],
   "source": [
    "fit_df.iloc[:5]"
   ]
  },
  {
   "cell_type": "code",
   "execution_count": null,
   "metadata": {},
   "outputs": [],
   "source": []
  }
 ],
 "metadata": {
  "kernelspec": {
   "display_name": "Python 3",
   "language": "python",
   "name": "python3"
  },
  "language_info": {
   "codemirror_mode": {
    "name": "ipython",
    "version": 3
   },
   "file_extension": ".py",
   "mimetype": "text/x-python",
   "name": "python",
   "nbconvert_exporter": "python",
   "pygments_lexer": "ipython3",
   "version": "3.7.4"
  },
  "toc": {
   "base_numbering": 1,
   "nav_menu": {},
   "number_sections": true,
   "sideBar": true,
   "skip_h1_title": false,
   "title_cell": "Table of Contents",
   "title_sidebar": "Contents",
   "toc_cell": true,
   "toc_position": {},
   "toc_section_display": true,
   "toc_window_display": true
  }
 },
 "nbformat": 4,
 "nbformat_minor": 2
}
