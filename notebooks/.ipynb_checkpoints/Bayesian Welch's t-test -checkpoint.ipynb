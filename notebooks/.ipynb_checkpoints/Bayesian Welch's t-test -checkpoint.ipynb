{
 "cells": [
  {
   "cell_type": "markdown",
   "metadata": {
    "toc": true
   },
   "source": [
    "<h1>Table of Contents<span class=\"tocSkip\"></span></h1>\n",
    "<div class=\"toc\"><ul class=\"toc-item\"><li><span><a href=\"#Bayesian-estimation-equivalent-of-Welch's-t-test\" data-toc-modified-id=\"Bayesian-estimation-equivalent-of-Welch's-t-test-1\"><span class=\"toc-item-num\">1&nbsp;&nbsp;</span>Bayesian estimation equivalent of Welch's t-test</a></span><ul class=\"toc-item\"><li><span><a href=\"#The-classic-Welch's-t-test\" data-toc-modified-id=\"The-classic-Welch's-t-test-1.1\"><span class=\"toc-item-num\">1.1&nbsp;&nbsp;</span>The classic Welch's t-test</a></span></li></ul></li><li><span><a href=\"#Bayesian-inference\" data-toc-modified-id=\"Bayesian-inference-2\"><span class=\"toc-item-num\">2&nbsp;&nbsp;</span>Bayesian inference</a></span></li><li><span><a href=\"#Steps-of-Bayesian-data-analysis\" data-toc-modified-id=\"Steps-of-Bayesian-data-analysis-3\"><span class=\"toc-item-num\">3&nbsp;&nbsp;</span>Steps of Bayesian data analysis</a></span></li><li><span><a href=\"#Step-5---Posterior-predcitive-checks\" data-toc-modified-id=\"Step-5---Posterior-predcitive-checks-4\"><span class=\"toc-item-num\">4&nbsp;&nbsp;</span>Step 5 - Posterior predcitive checks</a></span></li><li><span><a href=\"#Step-1---Identify-the-relevant-data-for-question-under-investigation\" data-toc-modified-id=\"Step-1---Identify-the-relevant-data-for-question-under-investigation-5\"><span class=\"toc-item-num\">5&nbsp;&nbsp;</span>Step 1 - Identify the relevant data for question under investigation</a></span><ul class=\"toc-item\"><li><span><a href=\"#Study/data-description\" data-toc-modified-id=\"Study/data-description-5.1\"><span class=\"toc-item-num\">5.1&nbsp;&nbsp;</span>Study/data description</a></span></li></ul></li><li><span><a href=\"#Step-2---Define-the-descriptive-statistical-model-\\begin{align*}\n",
    "y_{i}-&amp;\\sim-Normal(\\mu_{i},-\\sigma_{k}-)-\n",
    "\\\\-\\mu_{i}-&amp;=\\alpha_k\n",
    "\\\\-\\alpha_k-&amp;\\sim-Normal()-\\hspace{0.2cm}-for-\\hspace{0.2cm}k\\hspace{0.2cm}-1..2\n",
    "\\\\-\\sigma_{k}-&amp;\\sim-Exponential()-\\hspace{0.2cm}for-\\hspace{0.5cm}k\\hspace{0.2cm}-1..2\n",
    "\\end{align*}\" data-toc-modified-id=\"Step-2---Define-the-descriptive-statistical-model-\\begin{align*}\n",
    "y_{i}-&amp;\\sim-Normal(\\mu_{i},-\\sigma_{k}-)-\n",
    "\\\\-\\mu_{i}-&amp;=\\alpha_k\n",
    "\\\\-\\alpha_k-&amp;\\sim-Normal()-\\hspace{0.2cm}-for-\\hspace{0.2cm}k\\hspace{0.2cm}-1..2\n",
    "\\\\-\\sigma_{k}-&amp;\\sim-Exponential()-\\hspace{0.2cm}for-\\hspace{0.5cm}k\\hspace{0.2cm}-1..2\n",
    "\\end{align*}-6\"><span class=\"toc-item-num\">6&nbsp;&nbsp;</span>Step 2 - Define the descriptive statistical model <div class=\"MathJax_Display\" style=\"text-align: center;\"></div><script type=\"math/tex; mode=display\" id=\"MathJax-Element-31\">\\begin{align*}\n",
    "y_{i} &\\sim Normal(\\mu_{i}, \\sigma_{k} ) \n",
    "\\\\ \\mu_{i} &=\\alpha_k\n",
    "\\\\ \\alpha_k &\\sim Normal() \\hspace{0.2cm} for \\hspace{0.2cm}k\\hspace{0.2cm} 1..2\n",
    "\\\\ \\sigma_{k} &\\sim Exponential() \\hspace{0.2cm}for \\hspace{0.5cm}k\\hspace{0.2cm} 1..2\n",
    "\\end{align*}</script></a></span></li><li><span><a href=\"#Step-3---Specifying-priors\" data-toc-modified-id=\"Step-3---Specifying-priors-7\"><span class=\"toc-item-num\">7&nbsp;&nbsp;</span>Step 3 - Specifying priors</a></span></li><li><span><a href=\"#Step-4---Use-Bayes-rule\" data-toc-modified-id=\"Step-4---Use-Bayes-rule-8\"><span class=\"toc-item-num\">8&nbsp;&nbsp;</span>Step 4 - Use Bayes rule</a></span><ul class=\"toc-item\"><li><span><a href=\"#Stan-model-of-Bayesian-Welch's-t-test\" data-toc-modified-id=\"Stan-model-of-Bayesian-Welch's-t-test-8.1\"><span class=\"toc-item-num\">8.1&nbsp;&nbsp;</span>Stan model of Bayesian Welch's t-test</a></span></li></ul></li></ul></div>"
   ]
  },
  {
   "cell_type": "code",
   "execution_count": 1,
   "metadata": {},
   "outputs": [],
   "source": [
    "# Import analysis packages\n",
    "%matplotlib inline\n",
    "import pystan as ps\n",
    "import numpy as np\n",
    "import pandas as pd\n",
    "import seaborn as sns\n",
    "import arviz as az\n",
    "import matplotlib.pyplot as plt\n",
    "import scipy.stats as ss"
   ]
  },
  {
   "cell_type": "code",
   "execution_count": 2,
   "metadata": {},
   "outputs": [
    {
     "data": {
      "text/html": [
       " <style>\n",
       ".output_png {\n",
       "    display: table-cell;\n",
       "    text-align: center;\n",
       "    vertical-align: middle;\n",
       "}\n",
       "</style> "
      ],
      "text/plain": [
       "<IPython.core.display.HTML object>"
      ]
     },
     "execution_count": 2,
     "metadata": {},
     "output_type": "execute_result"
    }
   ],
   "source": [
    "from IPython.core.display import HTML as Center\n",
    "\n",
    "Center(\"\"\" <style>\n",
    ".output_png {\n",
    "    display: table-cell;\n",
    "    text-align: center;\n",
    "    vertical-align: middle;\n",
    "}\n",
    "</style> \"\"\")"
   ]
  },
  {
   "cell_type": "markdown",
   "metadata": {},
   "source": [
    "# Bayesian estimation equivalent of Welch's t-test\n",
    "\n",
    "## The classic Welch's t-test\n"
   ]
  },
  {
   "cell_type": "markdown",
   "metadata": {},
   "source": [
    "# Bayesian inference\n",
    "<font size = \"3\"> Following the quick description of the classic one sample t-test above its important to keep in mind that Bayesian analysis inference are all derived from the applciation of Bayes rule $P(\\theta \\mid y) = \\large \\frac{P(y \\mid \\theta) \\, P(\\theta)}{P(y)}$ and as such while the following description of the Bayesian model is an equivalent to the Z-test, it is fundamentally different, becuase it uses fully probabilistic modelling and the infernce is not based on sampling distributions</font>\n",
    "    \n",
    "<font size = \"1\"> For a fuller description see the Practicing Bayesian statistics markdown file within the Github repository.</font>"
   ]
  },
  {
   "cell_type": "markdown",
   "metadata": {},
   "source": [
    "# Steps of Bayesian data analysis\n",
    "\n",
    "<font size = \"3\"> Kruscke (2015) offers a step by step formulation for how to conduct a Bayesian analysis:\n",
    "\n",
    "1. Identify the relevant data for question under investigation.\n",
    "\n",
    "2. Define the descriptive (mathematical) model for the data.\n",
    "\n",
    "3. Specify the Priors for the model. In the case of scientific research publication is the goal, as such the priors must be accepted by a skeptical audience. Much of this can be achieved using prior predcitve checks to acsetain os the priors are reasonable.\n",
    "\n",
    "4. Using Bayes rule estimate the posterior for the parameters of the model using the likelihood and priors. Then interprete and the posterior\n",
    "\n",
    "5. Conduct model checks. i.e. Posterior predcitive checks.</font> \n"
   ]
  },
  {
   "cell_type": "markdown",
   "metadata": {},
   "source": [
    "# Step 5 - Posterior predcitive checks"
   ]
  },
  {
   "cell_type": "markdown",
   "metadata": {},
   "source": [
    "#  Step 1 - Identify the relevant data for question under investigation"
   ]
  },
  {
   "cell_type": "markdown",
   "metadata": {},
   "source": [
    "## Study/data description"
   ]
  },
  {
   "cell_type": "markdown",
   "metadata": {},
   "source": [
    "# Step 2 - Define the descriptive statistical model \\begin{align*}\n",
    "y_{i} &\\sim Normal(\\mu_{i}, \\sigma_{k} ) \n",
    "\\\\ \\mu_{i} &=\\alpha_k\n",
    "\\\\ \\alpha_k &\\sim Normal() \\hspace{0.2cm} for \\hspace{0.2cm}k\\hspace{0.2cm} 1..2\n",
    "\\\\ \\sigma_{k} &\\sim Exponential() \\hspace{0.2cm}for \\hspace{0.5cm}k\\hspace{0.2cm} 1..2\n",
    "\\end{align*} \n"
   ]
  },
  {
   "cell_type": "markdown",
   "metadata": {},
   "source": [
    "# Step 3 - Specifying priors"
   ]
  },
  {
   "cell_type": "markdown",
   "metadata": {},
   "source": [
    "# Step 4 - Use Bayes rule"
   ]
  },
  {
   "cell_type": "markdown",
   "metadata": {},
   "source": [
    "## Stan model of Bayesian Welch's t-test"
   ]
  },
  {
   "cell_type": "code",
   "execution_count": 20,
   "metadata": {},
   "outputs": [],
   "source": [
    "Welch_t_model = \"\"\"\n",
    "\n",
    "data{\n",
    "\n",
    "int<lower = 1> N; // number of data points\n",
    "vector[N] y; // vector of data points in long format for both groups\n",
    "int K; // number of groups\n",
    "int<lower = 1, upper = K> x[N]; // array of interger valuesof the indicator variable for groups\n",
    "\n",
    "}\n",
    "\n",
    "parameters{\n",
    "\n",
    "// Model parameters to be estimated\n",
    "\n",
    " vector<lower = 0>[K] mu;// Bounded between 0 and 1 because as proportion of gaze scores cannot exceed those bounds\n",
    " vector<lower = 0>[K] sigma; //Standard deviation bounded at 0\n",
    " \n",
    "}\n",
    "\n",
    "model{\n",
    "\n",
    "//priors\n",
    "mu ~ normal(0,1);\n",
    "sigma ~ exponential(1);\n",
    "\n",
    "// Likliehood\n",
    "y ~ normal(mu[x], sigma[x]);\n",
    "\n",
    "}\n",
    "generated quantities{\n",
    "real diff = mu[1] - mu[2];\n",
    "real Cohen_D = diff / (sigma[1] + sigma[2])/2;\n",
    "\n",
    "\n",
    "real yrep[N];\n",
    "  \n",
    "// Generate data for posterior samples\n",
    "  //for (i in 1:N) {\n",
    "    yrep = normal_rng(mu[x], sigma[x]);\n",
    " //}\n",
    "}\n",
    "\"\"\""
   ]
  },
  {
   "cell_type": "code",
   "execution_count": null,
   "metadata": {},
   "outputs": [
    {
     "name": "stderr",
     "output_type": "stream",
     "text": [
      "INFO:pystan:COMPILING THE C++ CODE FOR MODEL anon_model_e9ff927b8f539eae8349ee663abf2f99 NOW.\n"
     ]
    }
   ],
   "source": [
    "# StanModel function can be called and be passed the model string specified above to compile into C++ code.\n",
    "sm  = ps.StanModel(model_code = Welch_t_model)"
   ]
  },
  {
   "cell_type": "code",
   "execution_count": null,
   "metadata": {},
   "outputs": [],
   "source": []
  }
 ],
 "metadata": {
  "kernelspec": {
   "display_name": "Python 3",
   "language": "python",
   "name": "python3"
  },
  "language_info": {
   "codemirror_mode": {
    "name": "ipython",
    "version": 3
   },
   "file_extension": ".py",
   "mimetype": "text/x-python",
   "name": "python",
   "nbconvert_exporter": "python",
   "pygments_lexer": "ipython3",
   "version": "3.7.4"
  },
  "toc": {
   "base_numbering": 1,
   "nav_menu": {},
   "number_sections": true,
   "sideBar": true,
   "skip_h1_title": false,
   "title_cell": "Table of Contents",
   "title_sidebar": "Contents",
   "toc_cell": true,
   "toc_position": {},
   "toc_section_display": true,
   "toc_window_display": true
  }
 },
 "nbformat": 4,
 "nbformat_minor": 2
}
