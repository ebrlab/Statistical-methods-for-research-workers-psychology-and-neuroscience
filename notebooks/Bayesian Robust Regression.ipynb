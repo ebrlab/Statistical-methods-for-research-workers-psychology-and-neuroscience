{
 "cells": [
  {
   "cell_type": "markdown",
   "metadata": {
    "toc": true
   },
   "source": [
    "<h1>Table of Contents<span class=\"tocSkip\"></span></h1>\n",
    "<div class=\"toc\"><ul class=\"toc-item\"><li><span><a href=\"#Robust-Regression\" data-toc-modified-id=\"Robust-Regression-1\"><span class=\"toc-item-num\">1&nbsp;&nbsp;</span>Robust Regression</a></span></li><li><span><a href=\"#Step-2---Define-the-descriptive-statistical-model-\\begin{align*}\n",
    "y_i-&amp;\\sim-Student(\\nu,-\\mu,-\\sigma)-\n",
    "\\\\-\\nu--&amp;\\sim-Gamma(2,-1)\n",
    "\\\\-\\mu_i-&amp;=-\\beta_0-+-\\beta_1x-+-\\beta_2x\n",
    "\\\\-\\beta_0-&amp;\\sim-normal(0,-1)\n",
    "\\\\-\\beta_1-&amp;\\sim-normal(0,-1)\n",
    "\\\\-\\beta_2-&amp;\\sim-normal(0,-1)-\n",
    "\\\\-\\sigma-&amp;\\sim-Exponential(1)\n",
    "\\end{align*}\" data-toc-modified-id=\"Step-2---Define-the-descriptive-statistical-model-\\begin{align*}\n",
    "y_i-&amp;\\sim-Student(\\nu,-\\mu,-\\sigma)-\n",
    "\\\\-\\nu--&amp;\\sim-Gamma(2,-1)\n",
    "\\\\-\\mu_i-&amp;=-\\beta_0-+-\\beta_1x-+-\\beta_2x\n",
    "\\\\-\\beta_0-&amp;\\sim-normal(0,-1)\n",
    "\\\\-\\beta_1-&amp;\\sim-normal(0,-1)\n",
    "\\\\-\\beta_2-&amp;\\sim-normal(0,-1)-\n",
    "\\\\-\\sigma-&amp;\\sim-Exponential(1)\n",
    "\\end{align*}-2\"><span class=\"toc-item-num\">2&nbsp;&nbsp;</span>Step 2 - Define the descriptive statistical model <script type=\"math/tex; mode=display\" id=\"MathJax-Element-15\">\\begin{align*}\n",
    "y_i &\\sim Student(\\nu, \\mu, \\sigma) \n",
    "\\\\ \\nu  &\\sim Gamma(2, 1)\n",
    "\\\\ \\mu_i &= \\beta_0 + \\beta_1x + \\beta_2x\n",
    "\\\\ \\beta_0 &\\sim normal(0, 1)\n",
    "\\\\ \\beta_1 &\\sim normal(0, 1)\n",
    "\\\\ \\beta_2 &\\sim normal(0, 1) \n",
    "\\\\ \\sigma &\\sim Exponential(1)\n",
    "\\end{align*}</script></a></span></li><li><span><a href=\"#Step-4---Use-Bayes-rule.\" data-toc-modified-id=\"Step-4---Use-Bayes-rule.-3\"><span class=\"toc-item-num\">3&nbsp;&nbsp;</span>Step 4 - Use Bayes rule.</a></span></li><li><span><a href=\"#Stan-model-of-a-Bayesian-robust-regression\" data-toc-modified-id=\"Stan-model-of-a-Bayesian-robust-regression-4\"><span class=\"toc-item-num\">4&nbsp;&nbsp;</span>Stan model of a Bayesian robust regression</a></span></li><li><span><a href=\"#Step-5---Posterior-predictive-checks\" data-toc-modified-id=\"Step-5---Posterior-predictive-checks-5\"><span class=\"toc-item-num\">5&nbsp;&nbsp;</span>Step 5 - Posterior predictive checks</a></span><ul class=\"toc-item\"><li><span><a href=\"#posterior-p-values\" data-toc-modified-id=\"posterior-p-values-5.1\"><span class=\"toc-item-num\">5.1&nbsp;&nbsp;</span>posterior p-values</a></span></li></ul></li><li><span><a href=\"#Reporting-the-results-of-the-Bayesian-robust-regression\" data-toc-modified-id=\"Reporting-the-results-of-the-Bayesian-robust-regression-6\"><span class=\"toc-item-num\">6&nbsp;&nbsp;</span>Reporting the results of the Bayesian robust regression</a></span><ul class=\"toc-item\"><li><span><a href=\"#Write-up\" data-toc-modified-id=\"Write-up-6.1\"><span class=\"toc-item-num\">6.1&nbsp;&nbsp;</span><font size=\"3\">Write up</font></a></span></li></ul></li></ul></div>"
   ]
  },
  {
   "cell_type": "code",
   "execution_count": 5,
   "metadata": {},
   "outputs": [],
   "source": [
    "# Import relveant libraries/packages.\n",
    "import pystan as ps\n",
    "import numpy as np\n",
    "import pandas as pd\n",
    "import seaborn as sns\n",
    "import arviz as az\n",
    "%matplotlib inline\n",
    "import matplotlib.pyplot as plt\n",
    "import scipy.stats as ss\n",
    "plt.style.use('ggplot')"
   ]
  },
  {
   "cell_type": "code",
   "execution_count": 1,
   "metadata": {},
   "outputs": [
    {
     "data": {
      "text/html": [
       " <style>\n",
       ".output_png {\n",
       "    display: table-cell;\n",
       "    text-align: center;\n",
       "    vertical-align: middle;\n",
       "}\n",
       "</style> "
      ],
      "text/plain": [
       "<IPython.core.display.HTML object>"
      ]
     },
     "execution_count": 1,
     "metadata": {},
     "output_type": "execute_result"
    }
   ],
   "source": [
    "from IPython.core.display import HTML as Center\n",
    "\n",
    "Center(\"\"\" <style>\n",
    ".output_png {\n",
    "    display: table-cell;\n",
    "    text-align: center;\n",
    "    vertical-align: middle;\n",
    "}\n",
    "</style> \"\"\")"
   ]
  },
  {
   "cell_type": "markdown",
   "metadata": {},
   "source": [
    "# Robust Regression"
   ]
  },
  {
   "cell_type": "markdown",
   "metadata": {},
   "source": [
    "The data example below is from https://www.sheffield.ac.uk/mash/statistics/datasets. The code below is for conducting Robust regression which differs based on the use of student-t distrtibution as the likelihood function to model the data and accomadate outliers."
   ]
  },
  {
   "cell_type": "code",
   "execution_count": 11,
   "metadata": {},
   "outputs": [
    {
     "data": {
      "text/html": [
       "<div>\n",
       "<style scoped>\n",
       "    .dataframe tbody tr th:only-of-type {\n",
       "        vertical-align: middle;\n",
       "    }\n",
       "\n",
       "    .dataframe tbody tr th {\n",
       "        vertical-align: top;\n",
       "    }\n",
       "\n",
       "    .dataframe thead th {\n",
       "        text-align: right;\n",
       "    }\n",
       "</style>\n",
       "<table border=\"1\" class=\"dataframe\">\n",
       "  <thead>\n",
       "    <tr style=\"text-align: right;\">\n",
       "      <th></th>\n",
       "      <th>CrimeRate</th>\n",
       "      <th>Youth</th>\n",
       "      <th>Southern</th>\n",
       "      <th>Education</th>\n",
       "      <th>ExpenditureYear0</th>\n",
       "      <th>LabourForce</th>\n",
       "      <th>Males</th>\n",
       "      <th>MoreMales</th>\n",
       "      <th>StateSize</th>\n",
       "      <th>YouthUnemployment</th>\n",
       "      <th>...</th>\n",
       "      <th>ExpenditureYear10</th>\n",
       "      <th>LabourForce10</th>\n",
       "      <th>Males10</th>\n",
       "      <th>MoreMales10</th>\n",
       "      <th>StateSize10</th>\n",
       "      <th>YouthUnemploy10</th>\n",
       "      <th>MatureUnemploy10</th>\n",
       "      <th>HighYouthUnemploy10</th>\n",
       "      <th>Wage10</th>\n",
       "      <th>BelowWage10</th>\n",
       "    </tr>\n",
       "  </thead>\n",
       "  <tbody>\n",
       "    <tr>\n",
       "      <td>0</td>\n",
       "      <td>45.5</td>\n",
       "      <td>135</td>\n",
       "      <td>0</td>\n",
       "      <td>12.4</td>\n",
       "      <td>69</td>\n",
       "      <td>540</td>\n",
       "      <td>965</td>\n",
       "      <td>0</td>\n",
       "      <td>6</td>\n",
       "      <td>80</td>\n",
       "      <td>...</td>\n",
       "      <td>71</td>\n",
       "      <td>564</td>\n",
       "      <td>974</td>\n",
       "      <td>0</td>\n",
       "      <td>6</td>\n",
       "      <td>82</td>\n",
       "      <td>20</td>\n",
       "      <td>1</td>\n",
       "      <td>632</td>\n",
       "      <td>142</td>\n",
       "    </tr>\n",
       "    <tr>\n",
       "      <td>1</td>\n",
       "      <td>52.3</td>\n",
       "      <td>140</td>\n",
       "      <td>0</td>\n",
       "      <td>10.9</td>\n",
       "      <td>55</td>\n",
       "      <td>535</td>\n",
       "      <td>1045</td>\n",
       "      <td>1</td>\n",
       "      <td>6</td>\n",
       "      <td>135</td>\n",
       "      <td>...</td>\n",
       "      <td>54</td>\n",
       "      <td>540</td>\n",
       "      <td>1039</td>\n",
       "      <td>1</td>\n",
       "      <td>7</td>\n",
       "      <td>138</td>\n",
       "      <td>39</td>\n",
       "      <td>1</td>\n",
       "      <td>521</td>\n",
       "      <td>210</td>\n",
       "    </tr>\n",
       "    <tr>\n",
       "      <td>2</td>\n",
       "      <td>56.6</td>\n",
       "      <td>157</td>\n",
       "      <td>1</td>\n",
       "      <td>11.2</td>\n",
       "      <td>47</td>\n",
       "      <td>512</td>\n",
       "      <td>962</td>\n",
       "      <td>0</td>\n",
       "      <td>22</td>\n",
       "      <td>97</td>\n",
       "      <td>...</td>\n",
       "      <td>44</td>\n",
       "      <td>529</td>\n",
       "      <td>959</td>\n",
       "      <td>0</td>\n",
       "      <td>24</td>\n",
       "      <td>98</td>\n",
       "      <td>33</td>\n",
       "      <td>0</td>\n",
       "      <td>359</td>\n",
       "      <td>256</td>\n",
       "    </tr>\n",
       "    <tr>\n",
       "      <td>3</td>\n",
       "      <td>60.3</td>\n",
       "      <td>139</td>\n",
       "      <td>1</td>\n",
       "      <td>11.9</td>\n",
       "      <td>46</td>\n",
       "      <td>480</td>\n",
       "      <td>968</td>\n",
       "      <td>0</td>\n",
       "      <td>19</td>\n",
       "      <td>135</td>\n",
       "      <td>...</td>\n",
       "      <td>41</td>\n",
       "      <td>497</td>\n",
       "      <td>983</td>\n",
       "      <td>0</td>\n",
       "      <td>20</td>\n",
       "      <td>131</td>\n",
       "      <td>50</td>\n",
       "      <td>0</td>\n",
       "      <td>510</td>\n",
       "      <td>235</td>\n",
       "    </tr>\n",
       "    <tr>\n",
       "      <td>4</td>\n",
       "      <td>64.2</td>\n",
       "      <td>126</td>\n",
       "      <td>0</td>\n",
       "      <td>12.2</td>\n",
       "      <td>106</td>\n",
       "      <td>599</td>\n",
       "      <td>989</td>\n",
       "      <td>0</td>\n",
       "      <td>40</td>\n",
       "      <td>78</td>\n",
       "      <td>...</td>\n",
       "      <td>97</td>\n",
       "      <td>602</td>\n",
       "      <td>989</td>\n",
       "      <td>0</td>\n",
       "      <td>42</td>\n",
       "      <td>79</td>\n",
       "      <td>24</td>\n",
       "      <td>1</td>\n",
       "      <td>660</td>\n",
       "      <td>162</td>\n",
       "    </tr>\n",
       "  </tbody>\n",
       "</table>\n",
       "<p>5 rows × 27 columns</p>\n",
       "</div>"
      ],
      "text/plain": [
       "   CrimeRate  Youth  Southern  Education  ExpenditureYear0  LabourForce  \\\n",
       "0       45.5    135         0       12.4                69          540   \n",
       "1       52.3    140         0       10.9                55          535   \n",
       "2       56.6    157         1       11.2                47          512   \n",
       "3       60.3    139         1       11.9                46          480   \n",
       "4       64.2    126         0       12.2               106          599   \n",
       "\n",
       "   Males  MoreMales  StateSize  YouthUnemployment  ...  ExpenditureYear10  \\\n",
       "0    965          0          6                 80  ...                 71   \n",
       "1   1045          1          6                135  ...                 54   \n",
       "2    962          0         22                 97  ...                 44   \n",
       "3    968          0         19                135  ...                 41   \n",
       "4    989          0         40                 78  ...                 97   \n",
       "\n",
       "   LabourForce10  Males10  MoreMales10  StateSize10  YouthUnemploy10  \\\n",
       "0            564      974            0            6               82   \n",
       "1            540     1039            1            7              138   \n",
       "2            529      959            0           24               98   \n",
       "3            497      983            0           20              131   \n",
       "4            602      989            0           42               79   \n",
       "\n",
       "   MatureUnemploy10  HighYouthUnemploy10  Wage10  BelowWage10  \n",
       "0                20                    1     632          142  \n",
       "1                39                    1     521          210  \n",
       "2                33                    0     359          256  \n",
       "3                50                    0     510          235  \n",
       "4                24                    1     660          162  \n",
       "\n",
       "[5 rows x 27 columns]"
      ]
     },
     "execution_count": 11,
     "metadata": {},
     "output_type": "execute_result"
    }
   ],
   "source": [
    "url = \"https://raw.githubusercontent.com/ebrlab/Statistical-methods-for-research-workers-bayes-for-psychologists-and-neuroscientists/master/Data/Crime.csv\"\n",
    "df = pd.read_csv(url)\n",
    "df.head()"
   ]
  },
  {
   "cell_type": "code",
   "execution_count": 13,
   "metadata": {},
   "outputs": [
    {
     "data": {
      "image/png": "[encoded data removed]",
      "text/plain": [
       "<Figure size 432x288 with 1 Axes>"
      ]
     },
     "metadata": {},
     "output_type": "display_data"
    }
   ],
   "source": [
    "sns.distplot(df[\"CrimeRate\"]);"
   ]
  },
  {
   "cell_type": "markdown",
   "metadata": {},
   "source": [
    "# Step 2 - Define the descriptive statistical model \\begin{align*}\n",
    "y_i &\\sim Student(\\nu, \\mu, \\sigma) \n",
    "\\\\ \\nu  &\\sim Gamma(2, 1)\n",
    "\\\\ \\mu_i &= \\beta_0 + \\beta_1x + \\beta_2x\n",
    "\\\\ \\beta_0 &\\sim normal(0, 1)\n",
    "\\\\ \\beta_1 &\\sim normal(0, 1)\n",
    "\\\\ \\beta_2 &\\sim normal(0, 1) \n",
    "\\\\ \\sigma &\\sim Exponential(1)\n",
    "\\end{align*} \n",
    "\n",
    "<font size = \"3\">The formulation for presenting statistical models here follows that used by McElreath (2020) for its intuitive nature. In plain english the model specifies that the dependent variable $y_i$ (diffence scores of gaze proportion  is distributed normally in terms of the likelihood with the prior on $\\mu$ being Normally distributed with a $\\mu$ of 0  and $\\sigma$ of 0.2. In addito the prior on the $\\sigma$ parameter of likelihood being exponetial distributed with a $\\lambda$ of 0.1. </font>"
   ]
  },
  {
   "cell_type": "markdown",
   "metadata": {},
   "source": [
    "# Step 4 - Use Bayes rule.\n",
    "\n",
    "The software of choice to conduct Bayesian inference on the data here is Stan and the model is specified below."
   ]
  },
  {
   "cell_type": "markdown",
   "metadata": {},
   "source": [
    "# Stan model of a Bayesian robust regression"
   ]
  },
  {
   "cell_type": "code",
   "execution_count": 32,
   "metadata": {},
   "outputs": [],
   "source": [
    "Robust_Regression = \"\"\"\n",
    "data {\n",
    "  int<lower=0> N;   // Sample size\n",
    "  int<lower=0> K;   // Number of predictor variables\n",
    "  matrix[N, K] x;   // Predictor variable (IV) matrix\n",
    "  vector[N] y;      // Vector of Dependent variable (DV) values\n",
    "}\n",
    "\n",
    "transformed data{\n",
    " vector[N] y_std = (y - mean(y)) / sd(y);\n",
    " matrix[N, K] x_std;\n",
    " for (i in 2:K){\n",
    " x_std[,i] = (x[,i] - mean(x[,i])) / sd(x[,i]);\n",
    " \n",
    "  }\n",
    "}\n",
    "\n",
    "parameters{\n",
    "  real nu;  // degrees of freedom       \n",
    "  vector[K] beta;       // Coefficients for interpectp and predictors\n",
    "  real<lower=0> sigma;  // Standard deviation\n",
    "}\n",
    "\n",
    "model {\n",
    "\n",
    "//priors\n",
    "nu ~ gamma(2, .1);\n",
    "beta ~ normal(0, 1);\n",
    "sigma ~ normal(0, 1);\n",
    "\n",
    "//Likelihood\n",
    "  y ~ student_t(nu, x * beta, sigma);  // likelihood\n",
    "}\n",
    "\n",
    "generated quantities{\n",
    "//Transform data back to the original scale\n",
    "\n",
    "\n",
    "// Generate posterior p-value variable \n",
    "int<lower = 0, upper = 1> mean_pv;\n",
    "int<lower = 0, upper = 1> sd_pv;\n",
    "\n",
    "real ypred[N] = student_t_rng(nu, x*beta, sigma);\n",
    "}\n",
    "\"\"\""
   ]
  },
  {
   "cell_type": "code",
   "execution_count": 33,
   "metadata": {},
   "outputs": [
    {
     "name": "stderr",
     "output_type": "stream",
     "text": [
      "INFO:pystan:COMPILING THE C++ CODE FOR MODEL anon_model_44a54ca7c95a0fc2f2f53e2fd9632139 NOW.\n"
     ]
    }
   ],
   "source": [
    "# StanModel function can be called and be passed the model string specified above to compile into C++ code.\n",
    "sm  = ps.StanModel(model_code = Robust_Regression)"
   ]
  },
  {
   "cell_type": "code",
   "execution_count": null,
   "metadata": {},
   "outputs": [],
   "source": [
    "x = pt.dmatrix(\" ~ Inherence_Bias\", data = df)\n",
    "x = np.asarray(x)\n",
    "\n",
    "data = {'N': len(filtered),\n",
    "        'y': filtered[\"Ought_Score\"].values,\n",
    "        'x': x,\n",
    "        'K': x.shape[1]\n",
    "       }"
   ]
  },
  {
   "cell_type": "markdown",
   "metadata": {},
   "source": [
    "# Step 5 - Posterior predictive checks"
   ]
  },
  {
   "cell_type": "markdown",
   "metadata": {},
   "source": [
    "## posterior p-values"
   ]
  },
  {
   "cell_type": "markdown",
   "metadata": {},
   "source": [
    "# Reporting the results of the Bayesian robust regression\n",
    "\n",
    "<font size = \"3\">As Kruscke correctly points out there is not standard formula or presentation method for reuslts in journal article like the APA guide for reporting frequentist analysis. It is likely there never will be, because as McElreath (2020) explains Bayesian data analysis is more like a engineering approach to the problem and the resulting model that is fit will be analysis specific. In addition, as Gabry et al, (2017) argue visualisations maybe even more key so the all the visualtions above would have to be included with any write up. Anyway below the write up as  below genral follows the advice of Kruscke (2015) chapter 25. In any application though it comes down to the problem to be described an the audience that needs to be convinced. </p><br/>\n",
    "\n",
    "<h2>Write up</h2><br/>\n"
   ]
  },
  {
   "cell_type": "code",
   "execution_count": null,
   "metadata": {},
   "outputs": [],
   "source": []
  }
 ],
 "metadata": {
  "kernelspec": {
   "display_name": "Python 3",
   "language": "python",
   "name": "python3"
  },
  "language_info": {
   "codemirror_mode": {
    "name": "ipython",
    "version": 3
   },
   "file_extension": ".py",
   "mimetype": "text/x-python",
   "name": "python",
   "nbconvert_exporter": "python",
   "pygments_lexer": "ipython3",
   "version": "3.7.4"
  },
  "toc": {
   "base_numbering": 1,
   "nav_menu": {},
   "number_sections": true,
   "sideBar": true,
   "skip_h1_title": false,
   "title_cell": "Table of Contents",
   "title_sidebar": "Contents",
   "toc_cell": true,
   "toc_position": {},
   "toc_section_display": true,
   "toc_window_display": true
  }
 },
 "nbformat": 4,
 "nbformat_minor": 2
}
