{
 "cells": [
  {
   "cell_type": "markdown",
   "metadata": {
    "toc": true
   },
   "source": [
    "<h1>Table of Contents<span class=\"tocSkip\"></span></h1>\n",
    "<div class=\"toc\"><ul class=\"toc-item\"><li><span><a href=\"#Bayesian-estimation-equivalent-of-Welch's-t-test\" data-toc-modified-id=\"Bayesian-estimation-equivalent-of-Welch's-t-test-1\"><span class=\"toc-item-num\">1&nbsp;&nbsp;</span>Bayesian estimation equivalent of Welch's t-test</a></span><ul class=\"toc-item\"><li><span><a href=\"#The-classic-Welch's-t-test\" data-toc-modified-id=\"The-classic-Welch's-t-test-1.1\"><span class=\"toc-item-num\">1.1&nbsp;&nbsp;</span>The classic Welch's t-test</a></span></li></ul></li><li><span><a href=\"#Bayesian-inference\" data-toc-modified-id=\"Bayesian-inference-2\"><span class=\"toc-item-num\">2&nbsp;&nbsp;</span>Bayesian inference</a></span></li><li><span><a href=\"#Steps-of-Bayesian-data-analysis\" data-toc-modified-id=\"Steps-of-Bayesian-data-analysis-3\"><span class=\"toc-item-num\">3&nbsp;&nbsp;</span>Steps of Bayesian data analysis</a></span></li><li><span><a href=\"#Step-1---Identify-the-relevant-data-for-question-under-investigation\" data-toc-modified-id=\"Step-1---Identify-the-relevant-data-for-question-under-investigation-4\"><span class=\"toc-item-num\">4&nbsp;&nbsp;</span>Step 1 - Identify the relevant data for question under investigation</a></span><ul class=\"toc-item\"><li><span><a href=\"#Study/data-description\" data-toc-modified-id=\"Study/data-description-4.1\"><span class=\"toc-item-num\">4.1&nbsp;&nbsp;</span>Study/data description</a></span></li></ul></li><li><span><a href=\"#Step-2---Define-the-descriptive-statistical-model-\\begin{align*}\n",
    "y_{i}-&amp;\\sim-Normal(\\mu_{i},-\\sigma_{k}-)-\n",
    "\\\\-\\mu_{i}-&amp;=\\alpha_k\n",
    "\\\\-\\alpha_k-&amp;\\sim-Normal()-\\hspace{0.2cm}-for-\\hspace{0.2cm}k\\hspace{0.2cm}-1..2\n",
    "\\\\-\\sigma_{k}-&amp;\\sim-Exponential()-\\hspace{0.2cm}for-\\hspace{0.5cm}k\\hspace{0.2cm}-1..2\n",
    "\\end{align*}\" data-toc-modified-id=\"Step-2---Define-the-descriptive-statistical-model-\\begin{align*}\n",
    "y_{i}-&amp;\\sim-Normal(\\mu_{i},-\\sigma_{k}-)-\n",
    "\\\\-\\mu_{i}-&amp;=\\alpha_k\n",
    "\\\\-\\alpha_k-&amp;\\sim-Normal()-\\hspace{0.2cm}-for-\\hspace{0.2cm}k\\hspace{0.2cm}-1..2\n",
    "\\\\-\\sigma_{k}-&amp;\\sim-Exponential()-\\hspace{0.2cm}for-\\hspace{0.5cm}k\\hspace{0.2cm}-1..2\n",
    "\\end{align*}-5\"><span class=\"toc-item-num\">5&nbsp;&nbsp;</span>Step 2 - Define the descriptive statistical model <div class=\"MathJax_Display\" style=\"text-align: center;\"></div><script type=\"math/tex; mode=display\" id=\"MathJax-Element-2\">\\begin{align*}\n",
    "y_{i} &\\sim Normal(\\mu_{i}, \\sigma_{k} ) \n",
    "\\\\ \\mu_{i} &=\\alpha_k\n",
    "\\\\ \\alpha_k &\\sim Normal() \\hspace{0.2cm} for \\hspace{0.2cm}k\\hspace{0.2cm} 1..2\n",
    "\\\\ \\sigma_{k} &\\sim Exponential() \\hspace{0.2cm}for \\hspace{0.5cm}k\\hspace{0.2cm} 1..2\n",
    "\\end{align*}</script></a></span></li><li><span><a href=\"#Step-3---Specifying-priors\" data-toc-modified-id=\"Step-3---Specifying-priors-6\"><span class=\"toc-item-num\">6&nbsp;&nbsp;</span>Step 3 - Specifying priors</a></span></li><li><span><a href=\"#Step-4---Use-Bayes-rule\" data-toc-modified-id=\"Step-4---Use-Bayes-rule-7\"><span class=\"toc-item-num\">7&nbsp;&nbsp;</span>Step 4 - Use Bayes rule</a></span><ul class=\"toc-item\"><li><span><a href=\"#Stan-model-of-Bayesian-Welch's-t-test\" data-toc-modified-id=\"Stan-model-of-Bayesian-Welch's-t-test-7.1\"><span class=\"toc-item-num\">7.1&nbsp;&nbsp;</span>Stan model of Bayesian Welch's t-test</a></span></li></ul></li><li><span><a href=\"#References\" data-toc-modified-id=\"References-8\"><span class=\"toc-item-num\">8&nbsp;&nbsp;</span>References</a></span></li></ul></div>"
   ]
  },
  {
   "cell_type": "code",
   "execution_count": 1,
   "metadata": {},
   "outputs": [],
   "source": [
    "# Import analysis packages\n",
    "%matplotlib inline\n",
    "import pystan as ps\n",
    "import numpy as np\n",
    "import pandas as pd\n",
    "import seaborn as sns\n",
    "import arviz as az\n",
    "import matplotlib.pyplot as plt\n",
    "import scipy.stats as ss"
   ]
  },
  {
   "cell_type": "code",
   "execution_count": 2,
   "metadata": {},
   "outputs": [
    {
     "data": {
      "text/html": [
       " <style>\n",
       ".output_png {\n",
       "    display: table-cell;\n",
       "    text-align: center;\n",
       "    vertical-align: middle;\n",
       "}\n",
       "</style> "
      ],
      "text/plain": [
       "<IPython.core.display.HTML object>"
      ]
     },
     "execution_count": 2,
     "metadata": {},
     "output_type": "execute_result"
    }
   ],
   "source": [
    "from IPython.core.display import HTML as Center\n",
    "\n",
    "Center(\"\"\" <style>\n",
    ".output_png {\n",
    "    display: table-cell;\n",
    "    text-align: center;\n",
    "    vertical-align: middle;\n",
    "}\n",
    "</style> \"\"\")"
   ]
  },
  {
   "cell_type": "markdown",
   "metadata": {},
   "source": [
    "# Bayesian estimation equivalent of Welch's t-test\n",
    "\n",
    "## The classic Welch's t-test\n",
    "\n",
    "In order to understand the Welch's t-test from classical statistics it is important to first outline the student t-test (apologise to any readers who have already read the Bayesian estimation of between subkects t-test notebook but this is essentially all repetition).\n",
    "\n",
    "The student t-test in formula form can be denoted as $$\\large t = \\frac{m_1-m_2}{\\sqrt{\\frac{S^2}{n_1}+\\frac{S^2}{n_2}}}$$\n",
    "\n",
    "$m_1 m_2 =$ the mean values for the two respective groups.\n",
    "\n",
    "$n_1 n_2 =$ the sample size for the two respective groups.\n",
    "\n",
    "and $S^2$ estimator for the varaince of the two groups being analysed \n",
    "\n",
    "$$\\large S^2 = \\frac{\\sum(x-m_1)^2 + \\sum(x-m_2)^2}{n_1 + n_2 -2}$$\n",
    "\n",
    "with the denominator $n_1 + n_2-2$ being gthe calculation of degree of freedom for the test.\n",
    "\n",
    "One of the assumptions of the student t-test results then from this aplication of a pooled estimator. That assumption being the homogeneity of variance (homoscedasticity).\n",
    "\n",
    "Like all assumptions then the big question is for any analysis is are they reasonable within the application at hand. in recent years there has been arguements that the student t-test is inappropiate for research where variance between the two groups is unlikely (such as psychology/behavioural analysis), with even arguements that researchers should default to welch's t-test (Delacre, Lakens, & Leys, 2017), the impotance of a need to for default comes clearer with identifcation the prolific use of t-tests within psychology (Wetzels, et al. 2011) considering the variety of statistical tools.\n",
    "\n",
    "Nevertheless, the welch's t-test is different from the student t-test because it can analyse two groups of data within classical statitics framework even in cases of heteroscedasticity.\n",
    "\n",
    "The Welch's t-test in formula form can be denoted as $$\\large t = \\frac{m_1-m_2}{\\sqrt{\\frac{S_{1}^{2}}{n_1}+\\frac{S_{2}^{2}}{n_2}}}$$\n",
    "\n",
    "$S_{1}^{2} S_{2}^{2}=$ Standard deviation of the the respective two groups\n",
    "\n",
    "The df are calculated as  $\\large df = $"
   ]
  },
  {
   "cell_type": "markdown",
   "metadata": {},
   "source": [
    "# Bayesian inference\n",
    "<font size = \"3\"> Following the quick description of the classic welch's t-test above its important to keep in mind that  inference within Bayesian data analysis is all derived from the application of Bayes rule $P(\\theta \\mid y) = \\large \\frac{P(y \\mid \\theta) \\, P(\\theta)}{P(y)}$ and as such while the following description of the Bayesian model is an equivalent to the Welch's t-test, it is fundamentally different, because it uses fully probabilistic modelling and, therefore, any resulting infernces are not based on sampling distributions</font>\n",
    "    \n",
    "<font size = \"1\"> For a fuller description see the Practicing Bayesian statistics markdown file within the Github repository.</font>"
   ]
  },
  {
   "cell_type": "markdown",
   "metadata": {},
   "source": [
    "# Steps of Bayesian data analysis\n",
    "\n",
    "<font size = \"3\"> Kruscke (2015) offers a step by step formulation for how to conduct a Bayesian analysis:\n",
    "\n",
    "1. Identify the relevant data for question under investigation.\n",
    "\n",
    "2. Define the descriptive (mathematical) model for the data.\n",
    "\n",
    "3. Specify the Priors for the model. If scientific research publication is the goal, the priors must be acceptable to a skeptical audience of peer reviewers. Much of this can be achieved using prior predictive checks to acsertain if the priors are reasonable.\n",
    "\n",
    "4. Using Bayes rule estimate the posterior for the parameters of the model using the likelihood and priors. Then interpret the posterior for any statisitcal inferences.\n",
    "\n",
    "5. Conduct model checks. i.e. Posterior predcitive checks, to idnefity if the model is reasonable and therfore also check if the infernces are reasonable in addition. </font> \n"
   ]
  },
  {
   "cell_type": "markdown",
   "metadata": {},
   "source": [
    "#  Step 1 - Identify the relevant data for question under investigation"
   ]
  },
  {
   "cell_type": "code",
   "execution_count": null,
   "metadata": {},
   "outputs": [],
   "source": [
    "url = \"https://raw.githubusercontent.com/ebrlab/Statistical-methods-for-research-workers-bayes-for-psychologists-and-neuroscientists/master/Data/James%20et%20al%202015%20Experiment%202%20Data%20Set.csv\"\n",
    "\n",
    "#Generare apndas data frame with the study data\n",
    "df = pd.read_csv(url)\n",
    "df"
   ]
  },
  {
   "cell_type": "markdown",
   "metadata": {},
   "source": [
    "## Study/data description"
   ]
  },
  {
   "cell_type": "markdown",
   "metadata": {},
   "source": [
    "# Step 2 - Define the descriptive statistical model \\begin{align*}\n",
    "y_{i} &\\sim Normal(\\mu_{i}, \\sigma_{k} ) \n",
    "\\\\ \\mu_{i} &=\\alpha_k\n",
    "\\\\ \\alpha_k &\\sim Normal() \\hspace{0.2cm} for \\hspace{0.2cm}k\\hspace{0.2cm} 1..2\n",
    "\\\\ \\sigma_{k} &\\sim Exponential() \\hspace{0.2cm}for \\hspace{0.5cm}k\\hspace{0.2cm} 1..2\n",
    "\\end{align*} \n"
   ]
  },
  {
   "cell_type": "markdown",
   "metadata": {},
   "source": [
    "# Step 3 - Specifying priors"
   ]
  },
  {
   "cell_type": "markdown",
   "metadata": {},
   "source": [
    "# Step 4 - Use Bayes rule"
   ]
  },
  {
   "cell_type": "markdown",
   "metadata": {},
   "source": [
    "## Stan model of Bayesian Welch's t-test"
   ]
  },
  {
   "cell_type": "code",
   "execution_count": 20,
   "metadata": {},
   "outputs": [],
   "source": [
    "Welch_t_model = \"\"\"\n",
    "\n",
    "data{\n",
    "\n",
    "int<lower = 1> N; // number of data points\n",
    "vector[N] y; // vector of data points in long format for both groups\n",
    "int K; // number of groups\n",
    "int<lower = 1, upper = K> x[N]; // array of interger valuesof the indicator variable for groups\n",
    "int<lower = 0, upper = 1> onlyprior;\n",
    "}\n",
    "\n",
    "parameters{\n",
    "\n",
    "// Model parameters to be estimated\n",
    "\n",
    " vector<lower = 0>[K] mu;// Bounded between 0 and 1 because as proportion of gaze scores cannot exceed those bounds\n",
    " vector<lower = 0>[K] sigma; //Standard deviation bounded at 0\n",
    " \n",
    "}\n",
    "\n",
    "model{\n",
    "\n",
    "//priors\n",
    "mu ~ normal(0,1);\n",
    "sigma ~ exponential(1);\n",
    "\n",
    "// Conditional stament whether to run prior predictive check or \n",
    "// full analysis\n",
    "if (!onlyprior)\n",
    "// Likliehood\n",
    "y ~ normal(mu[x], sigma[x]);\n",
    "\n",
    "}\n",
    "generated quantities{\n",
    "real diff = mu[1] - mu[2];\n",
    "real Cohen_D = diff / (sigma[1] + sigma[2])/2;\n",
    "\n",
    "\n",
    "real yrep[N];\n",
    "  \n",
    "// Generate data for posterior samples\n",
    "  //for (i in 1:N) {\n",
    "    yrep = normal_rng(mu[x], sigma[x]);\n",
    " //}\n",
    "}\n",
    "\"\"\""
   ]
  },
  {
   "cell_type": "code",
   "execution_count": 21,
   "metadata": {},
   "outputs": [
    {
     "name": "stderr",
     "output_type": "stream",
     "text": [
      "INFO:pystan:COMPILING THE C++ CODE FOR MODEL anon_model_e9ff927b8f539eae8349ee663abf2f99 NOW.\n"
     ]
    }
   ],
   "source": [
    "# StanModel function can be called and be passed the model string specified above to compile into C++ code.\n",
    "sm  = ps.StanModel(model_code = Welch_t_model)"
   ]
  },
  {
   "cell_type": "code",
   "execution_count": null,
   "metadata": {},
   "outputs": [],
   "source": [
    "data = {'N': len(df),\n",
    "        'y': df[\"\"].values,\n",
    "        'K': 2\n",
    "        'x': x\n",
    "        'onlyprior': 1}"
   ]
  },
  {
   "cell_type": "markdown",
   "metadata": {},
   "source": [
    "# References\n",
    "Delacre, M., Lakens, D., & Leys, C. (2017). Why psychologists should by default use Welch’s t-test instead of Student’s t-test. International Review of Social Psychology, 30(1).\n",
    "\n",
    "Wetzels, R., Matzke, D., Lee, M. D., Rouder, J. N., Iverson, G. J., & Wagenmakers, E. J. (2011). Statistical evidence in experimental psychology: An empirical comparison using 855 t tests. Perspectives on Psychological Science, 6(3), 291-298."
   ]
  },
  {
   "cell_type": "code",
   "execution_count": null,
   "metadata": {},
   "outputs": [],
   "source": []
  }
 ],
 "metadata": {
  "kernelspec": {
   "display_name": "Python 3",
   "language": "python",
   "name": "python3"
  },
  "language_info": {
   "codemirror_mode": {
    "name": "ipython",
    "version": 3
   },
   "file_extension": ".py",
   "mimetype": "text/x-python",
   "name": "python",
   "nbconvert_exporter": "python",
   "pygments_lexer": "ipython3",
   "version": "3.7.4"
  },
  "toc": {
   "base_numbering": 1,
   "nav_menu": {},
   "number_sections": true,
   "sideBar": true,
   "skip_h1_title": false,
   "title_cell": "Table of Contents",
   "title_sidebar": "Contents",
   "toc_cell": true,
   "toc_position": {},
   "toc_section_display": true,
   "toc_window_display": true
  }
 },
 "nbformat": 4,
 "nbformat_minor": 2
}
