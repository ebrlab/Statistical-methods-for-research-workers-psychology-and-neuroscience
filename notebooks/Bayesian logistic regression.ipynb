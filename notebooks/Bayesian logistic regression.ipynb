{
 "cells": [
  {
   "cell_type": "markdown",
   "metadata": {
    "toc": true
   },
   "source": [
    "<h1>Table of Contents<span class=\"tocSkip\"></span></h1>\n",
    "<div class=\"toc\"><ul class=\"toc-item\"><li><span><a href=\"#Bayesian-estimation-of-a-logistic-regression-model\" data-toc-modified-id=\"Bayesian-estimation-of-a-logistic-regression-model-1\"><span class=\"toc-item-num\">1&nbsp;&nbsp;</span>Bayesian estimation of a logistic regression model</a></span></li><li><span><a href=\"#Define-the-descriptive-statistical-model\" data-toc-modified-id=\"Define-the-descriptive-statistical-model-2\"><span class=\"toc-item-num\">2&nbsp;&nbsp;</span>Define the descriptive statistical model</a></span></li></ul></div>"
   ]
  },
  {
   "cell_type": "code",
   "execution_count": 2,
   "metadata": {},
   "outputs": [],
   "source": [
    "# Import data analysis and visualisation packages\n",
    "import numpy as np\n",
    "import pandas as pd\n",
    "import pystan as ps\n",
    "import matplotlib.pyplot as plt\n",
    "import seaborn as sns\n",
    "import scipy.stats as stats\n",
    "import arviz as az"
   ]
  },
  {
   "cell_type": "code",
   "execution_count": 1,
   "metadata": {},
   "outputs": [
    {
     "data": {
      "text/html": [
       " <style>\n",
       ".output_png {\n",
       "    display: table-cell;\n",
       "    text-align: center;\n",
       "    vertical-align: middle;\n",
       "}\n",
       "</style> "
      ],
      "text/plain": [
       "<IPython.core.display.HTML object>"
      ]
     },
     "execution_count": 1,
     "metadata": {},
     "output_type": "execute_result"
    }
   ],
   "source": [
    "from IPython.core.display import HTML as Center\n",
    "\n",
    "Center(\"\"\" <style>\n",
    ".output_png {\n",
    "    display: table-cell;\n",
    "    text-align: center;\n",
    "    vertical-align: middle;\n",
    "}\n",
    "</style> \"\"\")"
   ]
  },
  {
   "cell_type": "markdown",
   "metadata": {},
   "source": [
    "# Bayesian estimation of a logistic regression model"
   ]
  },
  {
   "attachments": {},
   "cell_type": "markdown",
   "metadata": {},
   "source": [
    "# Define the descriptive statistical model \n",
    "\n",
    "\\begin{align*}\n",
    "y_n \\sim Bernoull(\\alpha + \\beta \\cdot{} X)\n",
    "\\\\\n",
    "\\alpha \\sim Normal(0, 1.5)\n",
    "\\\\\n",
    "\\beta \\sim Normal(0,0.1)\n",
    "\\end{align*}"
   ]
  },
  {
   "cell_type": "code",
   "execution_count": 20,
   "metadata": {},
   "outputs": [],
   "source": [
    "logisticRegression = \"\"\"\n",
    "data {\n",
    "  int<lower=0> N;\n",
    "  vector[N] x;\n",
    "  int<lower=0,upper=1> y[N];\n",
    "  int<lower= 0, upper = 1> onlyprior;\n",
    "}\n",
    "\n",
    "parameters {\n",
    "  real alpha;\n",
    "  real beta;\n",
    "}\n",
    "\n",
    "model {\n",
    "\n",
    "    \n",
    "//\n",
    "  y ~ bernoulli_logit(alpha + beta * x);\n",
    "}\n",
    "\n",
    "generated quantities{\n",
    "int y_rep[N] = bernoulli_logit_rng(alpha + beta * x);\n",
    "\n",
    "}\n",
    "\"\"\""
   ]
  },
  {
   "cell_type": "code",
   "execution_count": 21,
   "metadata": {},
   "outputs": [
    {
     "name": "stderr",
     "output_type": "stream",
     "text": [
      "INFO:pystan:COMPILING THE C++ CODE FOR MODEL anon_model_e3045c2e266eaf857698710a6c96ae7f NOW.\n"
     ]
    }
   ],
   "source": [
    "sm = ps.StanModel(model_code = logisticRegression)"
   ]
  },
  {
   "cell_type": "code",
   "execution_count": 5,
   "metadata": {},
   "outputs": [
    {
     "ename": "SyntaxError",
     "evalue": "invalid syntax (<ipython-input-5-4fe28c8d2fa5>, line 1)",
     "output_type": "error",
     "traceback": [
      "\u001b[1;36m  File \u001b[1;32m\"<ipython-input-5-4fe28c8d2fa5>\"\u001b[1;36m, line \u001b[1;32m1\u001b[0m\n\u001b[1;33m    data = {'N':,\u001b[0m\n\u001b[1;37m                ^\u001b[0m\n\u001b[1;31mSyntaxError\u001b[0m\u001b[1;31m:\u001b[0m invalid syntax\n"
     ]
    }
   ],
   "source": [
    "data = {'N': len(),\n",
    "        'x':,\n",
    "        'y':,\n",
    "        'onlyprior': 1}"
   ]
  },
  {
   "cell_type": "code",
   "execution_count": null,
   "metadata": {},
   "outputs": [],
   "source": [
    "fit = sm.sampling(data = data, iter = 2000, chains = 4, seed = 1, warmup = 1000)"
   ]
  }
 ],
 "metadata": {
  "kernelspec": {
   "display_name": "Python 3",
   "language": "python",
   "name": "python3"
  },
  "language_info": {
   "codemirror_mode": {
    "name": "ipython",
    "version": 3
   },
   "file_extension": ".py",
   "mimetype": "text/x-python",
   "name": "python",
   "nbconvert_exporter": "python",
   "pygments_lexer": "ipython3",
   "version": "3.7.4"
  },
  "toc": {
   "base_numbering": 1,
   "nav_menu": {},
   "number_sections": true,
   "sideBar": true,
   "skip_h1_title": false,
   "title_cell": "Table of Contents",
   "title_sidebar": "Contents",
   "toc_cell": true,
   "toc_position": {},
   "toc_section_display": true,
   "toc_window_display": true
  }
 },
 "nbformat": 4,
 "nbformat_minor": 2
}
