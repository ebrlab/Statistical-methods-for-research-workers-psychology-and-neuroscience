{
 "cells": [
  {
   "cell_type": "markdown",
   "metadata": {
    "toc": true
   },
   "source": [
    "<h1>Table of Contents<span class=\"tocSkip\"></span></h1>\n",
    "<div class=\"toc\"><ul class=\"toc-item\"><li><span><a href=\"#Bayesian-estimation-equivalent-of-linear-mixed-model\" data-toc-modified-id=\"Bayesian-estimation-equivalent-of-linear-mixed-model-1\"><span class=\"toc-item-num\">1&nbsp;&nbsp;</span>Bayesian estimation equivalent of linear mixed model</a></span><ul class=\"toc-item\"><li><span><a href=\"#The-classic-linear-mixed-model\" data-toc-modified-id=\"The-classic-linear-mixed-model-1.1\"><span class=\"toc-item-num\">1.1&nbsp;&nbsp;</span>The classic linear mixed model</a></span></li></ul></li><li><span><a href=\"#Bayesian-inference\" data-toc-modified-id=\"Bayesian-inference-2\"><span class=\"toc-item-num\">2&nbsp;&nbsp;</span>Bayesian inference</a></span></li><li><span><a href=\"#Steps-of-Bayesian-data-analysis\" data-toc-modified-id=\"Steps-of-Bayesian-data-analysis-3\"><span class=\"toc-item-num\">3&nbsp;&nbsp;</span>Steps of Bayesian data analysis</a></span></li><li><span><a href=\"#Step-1---Identify-the-relevant-data-for-question-under-investigation\" data-toc-modified-id=\"Step-1---Identify-the-relevant-data-for-question-under-investigation-4\"><span class=\"toc-item-num\">4&nbsp;&nbsp;</span>Step 1 - Identify the relevant data for question under investigation</a></span><ul class=\"toc-item\"><li><span><a href=\"#Study/data-description\" data-toc-modified-id=\"Study/data-description-4.1\"><span class=\"toc-item-num\">4.1&nbsp;&nbsp;</span>Study/data description</a></span></li></ul></li><li><span><a href=\"#Step-2---Define-the-descriptive-statistical-model-\\begin{align*}\n",
    "y_i-&amp;\\sim-Normal(-)\n",
    "\\end{align*}\" data-toc-modified-id=\"Step-2---Define-the-descriptive-statistical-model-\\begin{align*}\n",
    "y_i-&amp;\\sim-Normal(-)\n",
    "\\end{align*}-5\"><span class=\"toc-item-num\">5&nbsp;&nbsp;</span>Step 2 - Define the descriptive statistical model <div class=\"MathJax_Display MathJax_Processing\"></div><script type=\"math/tex; mode=display\" id=\"MathJax-Element-2\">\\begin{align*}\n",
    "y_i &\\sim Normal( )\n",
    "\\end{align*}</script></a></span></li><li><span><a href=\"#Step-3---Specifying-priors\" data-toc-modified-id=\"Step-3---Specifying-priors-6\"><span class=\"toc-item-num\">6&nbsp;&nbsp;</span>Step 3 - Specifying priors</a></span></li><li><span><a href=\"#Step-4---Use-Bayes-rule\" data-toc-modified-id=\"Step-4---Use-Bayes-rule-7\"><span class=\"toc-item-num\">7&nbsp;&nbsp;</span>Step 4 - Use Bayes rule</a></span></li><li><span><a href=\"#Stan-model-of-Bayesian-Linear-mixed-model\" data-toc-modified-id=\"Stan-model-of-Bayesian-Linear-mixed-model-8\"><span class=\"toc-item-num\">8&nbsp;&nbsp;</span>Stan model of Bayesian Linear mixed model</a></span></li></ul></div>"
   ]
  },
  {
   "cell_type": "code",
   "execution_count": 1,
   "metadata": {},
   "outputs": [],
   "source": [
    "# Import analysis packages\n",
    "%matplotlib inline\n",
    "import pystan as ps\n",
    "import numpy as np\n",
    "import pandas as pd\n",
    "import seaborn as sns\n",
    "import arviz as az\n",
    "import matplotlib.pyplot as plt\n",
    "import scipy.stats as ss"
   ]
  },
  {
   "cell_type": "code",
   "execution_count": 2,
   "metadata": {},
   "outputs": [
    {
     "data": {
      "text/html": [
       " <style>\n",
       ".output_png {\n",
       "    display: table-cell;\n",
       "    text-align: center;\n",
       "    vertical-align: middle;\n",
       "}\n",
       "</style> "
      ],
      "text/plain": [
       "<IPython.core.display.HTML object>"
      ]
     },
     "execution_count": 2,
     "metadata": {},
     "output_type": "execute_result"
    }
   ],
   "source": [
    "from IPython.core.display import HTML as Center\n",
    "\n",
    "Center(\"\"\" <style>\n",
    ".output_png {\n",
    "    display: table-cell;\n",
    "    text-align: center;\n",
    "    vertical-align: middle;\n",
    "}\n",
    "</style> \"\"\")"
   ]
  },
  {
   "cell_type": "markdown",
   "metadata": {},
   "source": [
    "# Bayesian estimation equivalent of linear mixed model"
   ]
  },
  {
   "cell_type": "markdown",
   "metadata": {},
   "source": [
    "## The classic linear mixed model"
   ]
  },
  {
   "cell_type": "markdown",
   "metadata": {},
   "source": [
    "# Bayesian inference\n",
    "<font size = \"3\"> Following the quick description of classic linear mixed above its important to keep in mind that Bayesian analysis inference are all derived from the application of Bayes rule $P(\\theta \\mid y) = \\large \\frac{P(y \\mid \\theta) \\, P(\\theta)}{P(y)}$ and as such while the following description of the Bayesian model is an equivalent to the Z-test, it is fundamentally different, becuase its uses fully probabilistic modelling and the infernce is not based on sampling distributions</font>\n",
    "    \n",
    "<font size = \"1\"> For a fuller description see the Practicing Bayesian statistics markdown file within the Github repository.</font>"
   ]
  },
  {
   "cell_type": "markdown",
   "metadata": {},
   "source": [
    "# Steps of Bayesian data analysis\n",
    "\n",
    "<font size = \"3\"> Kruscke (2015) offers a step by step formulation for how to conduct a Bayesian analysis:\n",
    "\n",
    "1. Identify the relevant data for question under investigation.\n",
    "\n",
    "2. Define the descriptive (mathematical) model for the data.\n",
    "\n",
    "3. Specify the Priors for the model. In the case of scientific research publication is the goal, as such the priors must be accepted by a skeptical audience. Much of this can be achieved using prior predcitve checks to acsetain os the priors are reasonable.\n",
    "\n",
    "4. Using Bayes rule estimate the posterior for the parameters of the model using the likelihood and priors. Then interprete and the posterior\n",
    "\n",
    "5. Conduct model checks. i.e. Posterior predcitive checks.</font> \n",
    "\n",
    "<font size = \"1\">This notebook will follow this approach generally.</font> "
   ]
  },
  {
   "cell_type": "markdown",
   "metadata": {},
   "source": [
    "#  Step 1 - Identify the relevant data for question under investigation"
   ]
  },
  {
   "cell_type": "markdown",
   "metadata": {},
   "source": [
    "## Study/data description\n",
    "\n",
    "The data analysed below is from https://sites.google.com/view/openstatslab/home/one-way-anova and is from Harvie et al. (2015). The study investiageted if movement within virtual reality (VR) can influence pain perception.\n",
    "\n",
    "Harvie et al. (2015) tested this huypothesis by recruiting individuals who suffered wuth moderate neck pain. The partiapants viewed 6 VR scenes whilst sitting so that the only way the scene could be viewed was with moving the their neck. The amount of rotation feedback that the virtual-reality system provided the participants was manipulated. Two scens rotation feedbak was accurate, two pof the scenes were class as understated visual feedback condition (i.e.. the feenabck was 20% less feedback, folwoed by two final scenes were overstated visual feedback condition.\n",
    "\n",
    "The the degrees of rotation (left or right) that participants turned their heads before\n",
    "the onset of pain was recorded."
   ]
  },
  {
   "cell_type": "code",
   "execution_count": 13,
   "metadata": {},
   "outputs": [],
   "source": [
    "# Call github repository\n",
    "url = \"https://raw.githubusercontent.com/ebrlab/Statistical-methods-for-research-workers-bayes-for-psychologists-and-neuroscientists/master/Data/Harvie%20et%20al.%202015.csv\"\n",
    "\n",
    "#Import data .csv file into pandas dataframe.\n",
    "dfWide = pd.read_csv(url)\n"
   ]
  },
  {
   "cell_type": "markdown",
   "metadata": {},
   "source": [
    "# Step 2 - Define the descriptive statistical model \\begin{align*}\n",
    "y_i &\\sim Normal( )\n",
    "\\end{align*} \n"
   ]
  },
  {
   "cell_type": "markdown",
   "metadata": {},
   "source": [
    "# Step 3 - Specifying priors"
   ]
  },
  {
   "cell_type": "markdown",
   "metadata": {},
   "source": [
    "# Step 4 - Use Bayes rule"
   ]
  },
  {
   "cell_type": "markdown",
   "metadata": {},
   "source": [
    "# Stan model of Bayesian Linear mixed model"
   ]
  },
  {
   "cell_type": "markdown",
   "metadata": {},
   "source": [
    "<center> References </center>\n",
    "\n",
    "Harvie, D. S., Broecker, M., Smith, R. T., Meulders, A., Madden, V. J., & Moseley, G. L. (2015). Bogus visual feedback alters onset of movement-evoked pain in people with neck pain. Psychological Science, 26, 385-392."
   ]
  },
  {
   "cell_type": "code",
   "execution_count": null,
   "metadata": {},
   "outputs": [],
   "source": []
  }
 ],
 "metadata": {
  "kernelspec": {
   "display_name": "Python 3",
   "language": "python",
   "name": "python3"
  },
  "language_info": {
   "codemirror_mode": {
    "name": "ipython",
    "version": 3
   },
   "file_extension": ".py",
   "mimetype": "text/x-python",
   "name": "python",
   "nbconvert_exporter": "python",
   "pygments_lexer": "ipython3",
   "version": "3.7.4"
  },
  "toc": {
   "base_numbering": 1,
   "nav_menu": {},
   "number_sections": true,
   "sideBar": true,
   "skip_h1_title": false,
   "title_cell": "Table of Contents",
   "title_sidebar": "Contents",
   "toc_cell": true,
   "toc_position": {},
   "toc_section_display": true,
   "toc_window_display": true
  }
 },
 "nbformat": 4,
 "nbformat_minor": 2
}
