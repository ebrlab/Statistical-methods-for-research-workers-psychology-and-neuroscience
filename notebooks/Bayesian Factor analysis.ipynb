{
 "cells": [
  {
   "cell_type": "markdown",
   "metadata": {
    "toc": true
   },
   "source": [
    "<h1>Table of Contents<span class=\"tocSkip\"></span></h1>\n",
    "<div class=\"toc\"><ul class=\"toc-item\"><li><span><a href=\"#Bayesian-estimation-equivalent-ofFactor-analyis\" data-toc-modified-id=\"Bayesian-estimation-equivalent-ofFactor-analyis-1\"><span class=\"toc-item-num\">1&nbsp;&nbsp;</span>Bayesian estimation equivalent ofFactor analyis</a></span><ul class=\"toc-item\"><li><span><a href=\"#Classic-Factor-analysis\" data-toc-modified-id=\"Classic-Factor-analysis-1.1\"><span class=\"toc-item-num\">1.1&nbsp;&nbsp;</span>Classic Factor analysis</a></span></li></ul></li><li><span><a href=\"#Bayesian-inference\" data-toc-modified-id=\"Bayesian-inference-2\"><span class=\"toc-item-num\">2&nbsp;&nbsp;</span>Bayesian inference</a></span></li><li><span><a href=\"#Steps-of-Bayesian-data-analysis\" data-toc-modified-id=\"Steps-of-Bayesian-data-analysis-3\"><span class=\"toc-item-num\">3&nbsp;&nbsp;</span>Steps of Bayesian data analysis</a></span></li><li><span><a href=\"#Step-1---Identify-the-relevant-data-for-question-under-investigation\" data-toc-modified-id=\"Step-1---Identify-the-relevant-data-for-question-under-investigation-4\"><span class=\"toc-item-num\">4&nbsp;&nbsp;</span>Step 1 - Identify the relevant data for question under investigation</a></span><ul class=\"toc-item\"><li><span><a href=\"#Study/data-description\" data-toc-modified-id=\"Study/data-description-4.1\"><span class=\"toc-item-num\">4.1&nbsp;&nbsp;</span>Study/data description</a></span></li><li><span><a href=\"#Import-data\" data-toc-modified-id=\"Import-data-4.2\"><span class=\"toc-item-num\">4.2&nbsp;&nbsp;</span>Import data</a></span><ul class=\"toc-item\"><li><span><a href=\"#Clean-the-data\" data-toc-modified-id=\"Clean-the-data-4.2.1\"><span class=\"toc-item-num\">4.2.1&nbsp;&nbsp;</span>Clean the data</a></span></li></ul></li></ul></li><li><span><a href=\"#Step-4---Use-Bayes-rule\" data-toc-modified-id=\"Step-4---Use-Bayes-rule-5\"><span class=\"toc-item-num\">5&nbsp;&nbsp;</span>Step 4 - Use Bayes rule</a></span><ul class=\"toc-item\"><li><span><a href=\"#Stan-model-of-Bayesian-Factor-analysis\" data-toc-modified-id=\"Stan-model-of-Bayesian-Factor-analysis-5.1\"><span class=\"toc-item-num\">5.1&nbsp;&nbsp;</span>Stan model of Bayesian Factor analysis</a></span></li></ul></li></ul></div>"
   ]
  },
  {
   "cell_type": "code",
   "execution_count": 1,
   "metadata": {},
   "outputs": [],
   "source": [
    "# Import analysis packages\n",
    "%matplotlib inline\n",
    "import pystan as ps\n",
    "import numpy as np\n",
    "import pandas as pd\n",
    "import seaborn as sns\n",
    "import arviz as az\n",
    "import matplotlib.pyplot as plt\n",
    "import scipy.stats as ss"
   ]
  },
  {
   "cell_type": "code",
   "execution_count": 2,
   "metadata": {},
   "outputs": [
    {
     "data": {
      "text/html": [
       " <style>\n",
       ".output_png {\n",
       "    display: table-cell;\n",
       "    text-align: center;\n",
       "    vertical-align: middle;\n",
       "}\n",
       "</style> "
      ],
      "text/plain": [
       "<IPython.core.display.HTML object>"
      ]
     },
     "execution_count": 2,
     "metadata": {},
     "output_type": "execute_result"
    }
   ],
   "source": [
    "from IPython.core.display import HTML as Center\n",
    "\n",
    "Center(\"\"\" <style>\n",
    ".output_png {\n",
    "    display: table-cell;\n",
    "    text-align: center;\n",
    "    vertical-align: middle;\n",
    "}\n",
    "</style> \"\"\")"
   ]
  },
  {
   "cell_type": "markdown",
   "metadata": {},
   "source": [
    "# Bayesian estimation equivalent ofFactor analyis\n",
    "\n",
    "## Classic Factor analysis\n"
   ]
  },
  {
   "cell_type": "markdown",
   "metadata": {},
   "source": [
    "# Bayesian inference\n",
    "<font size = \"3\"> Following the quick description of the classic one sample t-test above its important to keep in mind that Bayesian analysis inference are all derived from the applciation of Bayes rule $P(\\theta \\mid y) = \\large \\frac{P(y \\mid \\theta) \\, P(\\theta)}{P(y)}$ and as such while the following description of the Bayesian model is an equivalent to Factor analysis it is fundamentally different, because it uses fully probabilistic modelling and the infernce is not based on sampling distributions</font>\n",
    "    \n",
    "<font size = \"1\"> For a fuller description see the Practicing Bayesian statistics markdown file within the Github repository.</font>"
   ]
  },
  {
   "cell_type": "markdown",
   "metadata": {},
   "source": [
    "# Steps of Bayesian data analysis\n",
    "\n",
    "<font size = \"3\"> Kruscke (2015) offers a step by step formulation for how to conduct a Bayesian analysis:\n",
    "\n",
    "1. Identify the relevant data for question under investigation.\n",
    "\n",
    "2. Define the descriptive (mathematical) model for the data.\n",
    "\n",
    "3. Specify the Priors for the model. In the case of scientific research publication is the goal, as such the priors must be accepted by a skeptical audience. Much of this can be achieved using prior predcitve checks to acsetain os the priors are reasonable.\n",
    "\n",
    "4. Using Bayes rule estimate the posterior for the parameters of the model using the likelihood and priors. Then interprete and the posterior\n",
    "\n",
    "5. Conduct model checks. i.e. Posterior predcitive checks.</font> \n",
    "\n",
    "<font size = \"1\">This notebook will follow this approach generally.</font> "
   ]
  },
  {
   "cell_type": "markdown",
   "metadata": {},
   "source": [
    "#  Step 1 - Identify the relevant data for question under investigation"
   ]
  },
  {
   "cell_type": "markdown",
   "metadata": {},
   "source": [
    "## Study/data description"
   ]
  },
  {
   "cell_type": "markdown",
   "metadata": {},
   "source": [
    "## Import data"
   ]
  },
  {
   "cell_type": "code",
   "execution_count": 5,
   "metadata": {},
   "outputs": [],
   "source": [
    "# Call github repository\n",
    "url = 'https://raw.githubusercontent.com/ebrlab/Statistical-methods-for-research-workers-bayes-for-psychologists-and-neuroscientists/master/Data/Birthweight_reduced_kg.csv'\n",
    "df = pd.read_csv(url)"
   ]
  },
  {
   "cell_type": "markdown",
   "metadata": {},
   "source": [
    "### Clean the data"
   ]
  },
  {
   "cell_type": "markdown",
   "metadata": {},
   "source": [
    "# Step 4 - Use Bayes rule"
   ]
  },
  {
   "cell_type": "markdown",
   "metadata": {},
   "source": [
    "## Stan model of Bayesian Factor analysis"
   ]
  },
  {
   "cell_type": "code",
   "execution_count": 7,
   "metadata": {},
   "outputs": [],
   "source": [
    "factorAnalysis = '''\n",
    "\n",
    "data {\n",
    "  int<lower=1> N;                // number of observations\n",
    "  int<lower=1> P;                // number of \n",
    "  matrix[N,P] Y;                 // data matrix of order [N,P]\n",
    "  int<lower=1> D;              // number of latent dimensions \n",
    "}\n",
    "transformed data {\n",
    "  int<lower=1> M;\n",
    "  vector[P] mu;\n",
    "  M  <- D*(P-D)+ D*(D-1)/2;  // number of non-zero loadings\n",
    "  mu <- rep_vector(0.0,P);\n",
    "}\n",
    "parameters {    \n",
    "  vector[M] L_t;   // lower diagonal elements of L\n",
    "  vector<lower=0>[D] L_d;   // lower diagonal elements of L\n",
    "  vector<lower=0>[P] psi;         // vector of variances\n",
    "  real<lower=0>   mu_psi;\n",
    "  real<lower=0>  sigma_psi;\n",
    "  real   mu_lt;\n",
    "  real<lower=0>  sigma_lt;\n",
    "}\n",
    "transformed parameters{\n",
    "  cholesky_factor_cov[P,D] L;  //lower triangular factor loadings Matrix \n",
    "  cov_matrix[P] Q;   //Covariance mat\n",
    "{\n",
    "  int idx1;\n",
    "  int idx2;\n",
    "  real zero; \n",
    "  zero <- 0;\n",
    "  for(i in 1:P){\n",
    "    for(j in (i+1):D){\n",
    "      idx1 <- idx1 + 1;\n",
    "      L[i,j] <- zero; //constrain the upper triangular elements to zero \n",
    "    }\n",
    "  }\n",
    "  for (j in 1:D) {\n",
    "      L[j,j] <- L_d[j];\n",
    "    for (i in (j+1):P) {\n",
    "      idx2 <- idx2 + 1;\n",
    "      L[i,j] <- L_t[idx2];\n",
    "    } \n",
    "  }\n",
    "} \n",
    "Q<-L*L'+diag_matrix(psi); \n",
    "}\n",
    "model {\n",
    "// the hyperpriors \n",
    "   mu_psi ~ cauchy(0, 1);\n",
    "   sigma_psi ~ cauchy(0,1);\n",
    "   mu_lt ~ cauchy(0, 1);\n",
    "   sigma_lt ~ cauchy(0,1);\n",
    "// the priors \n",
    "  L_d ~ cauchy(0,3);\n",
    "  L_t ~ cauchy(mu_lt,sigma_lt);\n",
    "  psi ~ cauchy(mu_psi,sigma_psi);\n",
    "//The likelihood\n",
    "for( j in 1:N)\n",
    "    Y[j] ~ multi_normal(mu,Q); \n",
    "}\n",
    "'''"
   ]
  },
  {
   "cell_type": "code",
   "execution_count": 8,
   "metadata": {},
   "outputs": [
    {
     "name": "stderr",
     "output_type": "stream",
     "text": [
      "INFO:pystan:COMPILING THE C++ CODE FOR MODEL anon_model_b416f8d5e3e0c0d71640c639266fc9df NOW.\n"
     ]
    }
   ],
   "source": [
    "sm = ps.StanModel(model_code = factorAnalysis)"
   ]
  },
  {
   "cell_type": "code",
   "execution_count": null,
   "metadata": {},
   "outputs": [],
   "source": []
  }
 ],
 "metadata": {
  "kernelspec": {
   "display_name": "Python 3",
   "language": "python",
   "name": "python3"
  },
  "language_info": {
   "codemirror_mode": {
    "name": "ipython",
    "version": 3
   },
   "file_extension": ".py",
   "mimetype": "text/x-python",
   "name": "python",
   "nbconvert_exporter": "python",
   "pygments_lexer": "ipython3",
   "version": "3.7.4"
  },
  "toc": {
   "base_numbering": 1,
   "nav_menu": {},
   "number_sections": true,
   "sideBar": true,
   "skip_h1_title": false,
   "title_cell": "Table of Contents",
   "title_sidebar": "Contents",
   "toc_cell": true,
   "toc_position": {},
   "toc_section_display": true,
   "toc_window_display": true
  }
 },
 "nbformat": 4,
 "nbformat_minor": 2
}
