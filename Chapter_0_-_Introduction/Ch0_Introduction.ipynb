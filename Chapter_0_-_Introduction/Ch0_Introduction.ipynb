{
 "cells": [
  {
   "cell_type": "markdown",
   "id": "aafe9ab0",
   "metadata": {},
   "source": [
    "# Statistical Methods for Research Workers: Bayes for Psychologists & Neuroscientists\n",
    "\n",
    "##### Version 0.1 (EBRLab Contributors)\n",
    "\n",
    "\n",
    "\n",
    "The full Github repository is available at [github/ebrlab/Statistical-methods-for-research-workers-bayes-for-psychologists-and-neuroscientists](https://github.com/ebrlab/Statistical-methods-for-research-workers-bayes-for-psychologists-and-neuroscientists). We hope you enjoy this book, and encourage contributions!\n",
    "\n",
    "This work is shared under a [CC BY-NC 4.0 license](https://creativecommons.org/licenses/by-nc/4.0/), which means:\n",
    "* You CAN share — copy and redistribute the material in any medium or format\n",
    "* You CAN adapt — remix, transform, and build upon the material\n",
    "* You MUST give proper appropriate credit - provide a link to the license, and indicate if changes were made. You may do so in any reasonable manner, but not in any way that suggests the licensor endorses you or your use.\n",
    "* You CANNOT use the material for commercial purposes."
   ]
  },
  {
   "cell_type": "markdown",
   "id": "5dc3f433",
   "metadata": {},
   "source": [
    "**tl;dr**: In these pages, you will be shown how Bayesian statistics can work for the kinds of things that researchers in psychology and neuroscience might want to do, using Python notebooks and [PyStan](https://mc-stan.org/users/interfaces/pystan).\n",
    "You can dive in the notebooks and copy-paste what's most relevant to you, or you can take your time and follow the table of content. We aim to explain what it means to run a Bayesian analysis, and introduce concepts as we need them. Therefore, it may be useful to review the earlier notebooks even if you are not interested in these simpler statistical tests."
   ]
  },
  {
   "cell_type": "markdown",
   "id": "2056e278",
   "metadata": {},
   "source": [
    "_\"[...] we may say that a phenomenon is experimentally demonstrable when we know how to conduct an experiment which will rarely fail to give us statistically significant results.\"_\n",
    "[Ronald A. Fisher](https://en.wikipedia.org/wiki/Ronald_Fisher) (17 February 1890 - 29 July 1962). <ins>The design of experiments</ins> (1951). p. 14.\n",
    "\n",
    "_\"All models are wrong but some models are useful.\"_\n",
    "[George E. P. Box](https://en.wikipedia.org/wiki/George_E._P._Box) (18 October 1919 – 28 March 2013). <ins>Robustness in the Strategy of Scientific Model Building</ins> (1979). p. 2.\n",
    "\n",
    "_\"The big problem in science is not cheaters or opportunists, but sincere researchers who have unfortunately been trained to think that every statistically 'significant' result is notable.\"_\n",
    "[Andrew Gelman](http://www.stat.columbia.edu/~gelman/) (11 February 1965 – very much alive). <ins>Essay: The Experiments Are Fascinating. But Nobody Can Repeat Them</ins>. [The New York Times (19/10/2018)](https://www.nytimes.com/2018/11/19/science/science-research-fraud-reproducibility.html).\n",
    "\n",
    "_\"The purpose of models is not to fit the data but to sharpen the question.\"_\n",
    "[Samuel Karlin](https://en.wikipedia.org/wiki/Samuel_Karlin) (8 June 1924 - very much alive). <ins>11th R. A. Fisher Memorial Lecture (20 April 1983)</ins> Royal Society."
   ]
  },
  {
   "cell_type": "markdown",
   "id": "3f4f4c86",
   "metadata": {},
   "source": [
    "## Introduction\n",
    "\n",
    "[Statistical Methods for Research Workers](https://en.wikipedia.org/wiki/Statistical_Methods_for_Research_Workers), written by [Ronald A. Fisher](https://en.wikipedia.org/wiki/Ronald_Fisher) in 1925, is a landmark publication that ended up not only defining how psychologists and neuroscientists analyse their data, but also influencing how they actually perceive the world.\n",
    "Almost a hundred years ago, the field of statistics, i.e. mathematics applied to data, was not at all structured in the way it is today, and \"research workers\" had to refine, and often invent the methods that would best suit their needs (e.g., computing numbers without a computer) and constraints (e.g., not having a lot of data).\n",
    "\n",
    "In this seminal book, Fisher codified what it meant to analyse data for the purpose of creating knowledge about the world, paving the way for what came to be statistics as we now know it. Later, the advent of computers transformed the tools available to analyse data, widening the use of statistics to researchers who did not necessarily need or want to deepen their mathematical understanding of the methods.\n",
    "\n",
    "It is important to note that we, \"research workers\", do not all have the same experience of statistics. Most psychologists and neuroscientists, for instance, would barely have heard of the debate between Frequentist and Bayesian methods, which can be rocking the core of other scientific fields.\n",
    "Indeed, in psychology and neuroscience, the teaching of statistics typically follows almost to the letter the table of content from Fisher's book, and it is not unusual for students to only \"know\" statistics through the menus of a Graphic User Interface on a proprietary piece of software, instead of having acquired enough intuition to understand how distributions of data are manipulated and evaluated.\n",
    "\n",
    "In this book, we are proposing an opinionated exploration of how Bayesian methods can be applied to the fields of psychology and neuroscience, using [Python](https://www.anaconda.com/products/individual) and [Stan](https://mc-stan.org/), with the explicit intent of providing research workers with an opportunity to see and understand what they are doing to their data.\n",
    "Our motivation stems from our experience of the so-called [Reproducibility Crisis](https://osf.io/qky8t), which has hit both fields.\n",
    "The Bayesian approach requires commitment to all parts of a given [model](https://nbviewer.jupyter.org/github/ebrlab/Statistical-methods-for-research-workers-bayes-for-psychologists-and-neuroscientists/blob/master/Chapter_0_-_Introduction/Glossary.ipynb#M-11), and relies on explicit assumptions formulated by the researcher.\n",
    "Doing good research is thus about justifying one's choices, and not about finding a [model](https://nbviewer.jupyter.org/github/ebrlab/Statistical-methods-for-research-workers-bayes-for-psychologists-and-neuroscientists/blob/master/Chapter_0_-_Introduction/Glossary.ipynb#M-11) that will yield the required number of stars in a table.\n",
    "\n",
    "Importantly, we do not seek to engage in the debate opposing Frequentists and Bayesians.\n",
    "Although our preference might show at time, we favour the more oecumenical view that frequentist shortcuts can be justified in precise contexts; a point, we posit even Fisher would concede.\n",
    "We will do our best to only expect entry-level [Python](https://www.anaconda.com/products/individual) coding skills and statistics, and to favour explaining over writing optimised code, showing over assuming."
   ]
  },
  {
   "cell_type": "markdown",
   "id": "4124d843",
   "metadata": {},
   "source": [
    "## Prerequisites\n",
    "\n",
    "The ultimate prerequisite to be able to follow these pages is the willingness to question your knowledge, and to deepen your understanding of the methods you may have heard about for many years.\n",
    "\n",
    "Although you might learn a thing or two, these pages are not about teaching and learning [Python](https://www.anaconda.com/products/individual). The code is documented extensively, and should be readable by anyone who has passing command of English. If you do not know Python at all, we hope you will still be able to understand what is going on. If you did want to brush up a little, we recommend you start [here](https://swcarpentry.github.io/python-novice-inflammation/), and hopefully we will even meet you [there](https://aspp.school/) and can laugh about it together.\n",
    "\n",
    "Perhaps the most difficult prerequisite, however, for a psychologist or a neuroscientist, may be the ability to see the world differently, to ask questions beyond evaluating differences between groups.\n",
    "The Bayesian method affords more questions to be asked than does the Frequentist method.\n",
    "In these pages, we apply the Bayesian framework to the subset of questions that would feature in your typical frequentist textbook, like [this one](https://www.amazon.co.uk/Discovering-Statistics-Using-Andy-Field/dp/1446200469), which followed suite from Fisher's seminal work.\n",
    "In so doing, we also point out a range of other questions that someone may be interested in.\n",
    "\n",
    "We are forever in debt to the authors who compiled academic books and articles about Bayesian methods, which we learned from and inspired many, many of our examples and explanations. If you want to go beyond the material we present, we recommend the following textbooks:\n",
    "\n",
    "* Kruschke, J.K. (2011). [Doing Bayesian Data Analysis: A tutorial with R, JAGS, and Stan (Second edition)](https://www.amazon.co.uk/Doing-Bayesian-Data-Analysis-Tutorial/dp/0124058884). Academic Press.\n",
    "* Gelman, A., Carlin, J.B., Stern, H.S., Dunson, D.B., Vehtari, A., & Rubin, D.B. (2014). [Bayesian data analysis (Third edition)](https://www.amazon.co.uk/Bayesian-Analysis-Chapman-Statistical-Science/dp/1439840954). CRC Press.\n"
   ]
  },
  {
   "cell_type": "markdown",
   "id": "c754762a",
   "metadata": {},
   "source": [
    "## Running our notebooks\n",
    "\n",
    "Each notebook is meant to be self-contained, and will have been compiled to show the output of each cell.\n",
    "\n",
    "TODO:\n",
    "* mybinder\n",
    "* requirements.txt\n",
    "* vagrant?\n"
   ]
  },
  {
   "cell_type": "markdown",
   "id": "fe7eed26",
   "metadata": {},
   "source": [
    "## Table of Content\n",
    "\n",
    "### Diagrams\n",
    "\n",
    "### Distributions\n",
    "\n",
    "### Tests of Goodness of Fit, independence and homogeneity\n",
    "\n",
    "* One-sample t test\n",
    "\n",
    "### Tests of significance of means, differences of means, and regression coefficients\n",
    "\n",
    "### Intraclass correlations and the analysis of variance\n",
    "\n",
    "### Further applications fo the Analysis of variance\n",
    "\n",
    "### Appendices\n"
   ]
  }
 ],
 "metadata": {
  "kernelspec": {
   "display_name": "Python 3",
   "language": "python",
   "name": "python3"
  },
  "language_info": {
   "codemirror_mode": {
    "name": "ipython",
    "version": 3
   },
   "file_extension": ".py",
   "mimetype": "text/x-python",
   "name": "python",
   "nbconvert_exporter": "python",
   "pygments_lexer": "ipython3",
   "version": "3.8.5"
  },
  "toc": {
   "colors": {
    "hover_highlight": "#DAA520",
    "navigate_num": "#000000",
    "navigate_text": "#333333",
    "running_highlight": "#FF0000",
    "selected_highlight": "#FFD700",
    "sidebar_border": "#EEEEEE",
    "wrapper_background": "#FFFFFF"
   },
   "moveMenuLeft": true,
   "nav_menu": {
    "height": "243px",
    "width": "252px"
   },
   "navigate_menu": true,
   "number_sections": true,
   "sideBar": true,
   "threshold": 4,
   "toc_cell": false,
   "toc_section_display": "block",
   "toc_window_display": false,
   "widenNotebook": false
  }
 },
 "nbformat": 4,
 "nbformat_minor": 5
}
