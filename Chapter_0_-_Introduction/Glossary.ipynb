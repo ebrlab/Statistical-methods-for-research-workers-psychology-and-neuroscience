{
 "cells": [
  {
   "cell_type": "markdown",
   "id": "ca7f37e5",
   "metadata": {},
   "source": [
    "# Glossary"
   ]
  },
  {
   "cell_type": "markdown",
   "id": "a81e1836",
   "metadata": {},
   "source": [
    "## M"
   ]
  },
  {
   "cell_type": "markdown",
   "id": "e1d11961",
   "metadata": {},
   "source": [
    "* Model - A model is an expression of the state of the world, as we hypothesise it to be. It is always formulated in the forms of a mathematical expression, even if your favourite statistical software hides it from you, and it is always based on"
   ]
  }
 ],
 "metadata": {
  "kernelspec": {
   "display_name": "Stan",
   "language": "python",
   "name": "stan"
  },
  "language_info": {
   "codemirror_mode": {
    "name": "ipython",
    "version": 3
   },
   "file_extension": ".py",
   "mimetype": "text/x-python",
   "name": "python",
   "nbconvert_exporter": "python",
   "pygments_lexer": "ipython3",
   "version": "3.9.5"
  },
  "toc": {
   "colors": {
    "hover_highlight": "#DAA520",
    "navigate_num": "#000000",
    "navigate_text": "#333333",
    "running_highlight": "#FF0000",
    "selected_highlight": "#FFD700",
    "sidebar_border": "#EEEEEE",
    "wrapper_background": "#FFFFFF"
   },
   "moveMenuLeft": true,
   "nav_menu": {
    "height": "48px",
    "width": "252px"
   },
   "navigate_menu": true,
   "number_sections": true,
   "sideBar": true,
   "threshold": 4,
   "toc_cell": false,
   "toc_section_display": "block",
   "toc_window_display": true,
   "widenNotebook": false
  }
 },
 "nbformat": 4,
 "nbformat_minor": 5
}
