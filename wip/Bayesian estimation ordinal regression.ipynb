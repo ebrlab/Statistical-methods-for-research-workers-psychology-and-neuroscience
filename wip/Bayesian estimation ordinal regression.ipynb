{
 "cells": [
  {
   "cell_type": "markdown",
   "metadata": {
    "toc": true
   },
   "source": [
    "<h1>Table of Contents<span class=\"tocSkip\"></span></h1>\n",
    "<div class=\"toc\"><ul class=\"toc-item\"></ul></div>"
   ]
  },
  {
   "cell_type": "code",
   "execution_count": 1,
   "metadata": {},
   "outputs": [],
   "source": [
    "import pystan as ps"
   ]
  },
  {
   "cell_type": "code",
   "execution_count": 17,
   "metadata": {},
   "outputs": [],
   "source": [
    "ordinalRegression = \"\"\"\n",
    "data{\n",
    "\n",
    "int N;\n",
    "int K;\n",
    "int y[N];\n",
    "int cuts; // the number of cutpoints\n",
    "matrix[N, K] x;\n",
    "}\n",
    "\n",
    "parameters{\n",
    "\n",
    "vector[K] beta; // beta coeffiecnt including the intercept term\n",
    "ordered[K-1] cutpoints;\n",
    "\n",
    "}\n",
    "\n",
    "model{\n",
    "// Priors\n",
    "beta[1] ~ normal(0,1);\n",
    "beta[2:K] ~ normal(0,4);\n",
    "cutpoints ~ normal(0,1);\n",
    "\n",
    "for (i in 1:N){\n",
    " y[i] ~ ordered_logistic( x[i] * beta , cutpoints);\n",
    "}\n",
    "}\n",
    "\n",
    "generated quantities{\n",
    "int yrep[N];\n",
    "\n",
    "for (i in 1:N){\n",
    " yrep[i] = ordered_logistic_rng( x[i] * beta , cutpoints);\n",
    " }\n",
    "}\n",
    "\n",
    "\"\"\""
   ]
  },
  {
   "cell_type": "code",
   "execution_count": 18,
   "metadata": {},
   "outputs": [
    {
     "name": "stderr",
     "output_type": "stream",
     "text": [
      "INFO:pystan:COMPILING THE C++ CODE FOR MODEL anon_model_80a8cdbab18e0404c3c21e7f0a859ef1 NOW.\n"
     ]
    }
   ],
   "source": [
    "sm = ps.StanModel(model_code = ordinalRegression)"
   ]
  },
  {
   "cell_type": "code",
   "execution_count": null,
   "metadata": {},
   "outputs": [],
   "source": []
  }
 ],
 "metadata": {
  "kernelspec": {
   "display_name": "Python 3",
   "language": "python",
   "name": "python3"
  },
  "language_info": {
   "codemirror_mode": {
    "name": "ipython",
    "version": 3
   },
   "file_extension": ".py",
   "mimetype": "text/x-python",
   "name": "python",
   "nbconvert_exporter": "python",
   "pygments_lexer": "ipython3",
   "version": "3.7.4"
  },
  "toc": {
   "base_numbering": 1,
   "nav_menu": {},
   "number_sections": true,
   "sideBar": true,
   "skip_h1_title": false,
   "title_cell": "Table of Contents",
   "title_sidebar": "Contents",
   "toc_cell": true,
   "toc_position": {},
   "toc_section_display": true,
   "toc_window_display": true
  }
 },
 "nbformat": 4,
 "nbformat_minor": 2
}
